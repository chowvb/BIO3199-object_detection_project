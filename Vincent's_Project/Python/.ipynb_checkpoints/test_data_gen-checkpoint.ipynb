{
 "cells": [
  {
   "cell_type": "code",
   "execution_count": null,
   "id": "c4a4bdf8",
   "metadata": {},
   "outputs": [],
   "source": [
    "\"\"\"This script is only used to trim down the original dataset which was 30GB\n",
    "in size. \"\"\""
   ]
  },
  {
   "cell_type": "code",
   "execution_count": 1,
   "id": "f6ec5d20",
   "metadata": {},
   "outputs": [],
   "source": [
    "import os, pathlib, sys, shutil, random \n",
    "from tkinter import *\n",
    "from PIL import ImageTk, Image\n",
    "import numpy as np\n",
    "import tensorflow as tf \n",
    "from tensorflow import keras\n",
    "from tensorflow.keras.models import load_model\n",
    "import matplotlib.pyplot as plt \n",
    "import pandas as pd\n",
    "from sklearn.metrics import ConfusionMatrixDisplay,confusion_matrix"
   ]
  },
  {
   "cell_type": "code",
   "execution_count": 15,
   "id": "9b7395a8",
   "metadata": {},
   "outputs": [
    {
     "name": "stdout",
     "output_type": "stream",
     "text": [
      "C2\n",
      "fat_balls\n",
      "100EK113\n",
      "101EK113\n",
      "102EK113\n",
      "103EK113\n",
      "104EK113\n",
      "standard_seed\n",
      "100EK113\n",
      "101EK113\n",
      "102EK113\n",
      "103EK113\n",
      "104EK113\n",
      "sunflower_seed\n",
      "100EK113\n",
      "101EK113\n",
      "102EK113\n",
      "103EK113\n",
      "104EK113\n",
      "C3\n",
      "fat_balls\n",
      "100EK113\n",
      "101EK113\n",
      "102EK113\n",
      "103EK113\n",
      "104EK113\n",
      "105EK113\n",
      "106EK113\n",
      "107EK113\n",
      "108EK113\n",
      "standard_seed\n",
      "100EK113\n",
      "101EK113\n",
      "102EK113\n",
      "103EK113\n",
      "104EK113\n",
      "sunflower_seed\n",
      "100EK113\n",
      "101EK113\n",
      "102EK113\n",
      "103EK113\n",
      "C4\n",
      "fat_balls\n",
      "100EK113\n",
      "standard_seed\n",
      "100EK113\n",
      "sunflower_seed\n",
      "100EK113\n",
      "101EK113\n"
     ]
    }
   ],
   "source": [
    "species_list_dir = pathlib.Path(\"training_data/cropped_images\")\n",
    "unlabelled_dir = pathlib.Path(\"test\")\n",
    "labelled_dir = pathlib.Path(\"cm_dataset/labelled\")\n",
    "\n",
    "root_dir = pathlib.Path(\"test_data\")\n",
    "for location in os.listdir(root_dir):\n",
    "    print(location)\n",
    "    location_dir = root_dir/location\n",
    "    for feed_type in os.listdir(location_dir):\n",
    "        print(feed_type)\n",
    "        raw_images_dir = location_dir/feed_type/\"raw_images\"\n",
    "        for folder in os.listdir(raw_images_dir):\n",
    "            folder_dir = raw_images_dir/folder\n",
    "            print(folder)\n",
    "            for i in range(1,5):\n",
    "                try:\n",
    "                    file = random.choice(os.listdir(folder_dir)) # random choice picks out a random file\n",
    "                    original_path = folder_dir/file # Define the original file path \n",
    "                    \n",
    "                    destination_path = unlabelled_dir/location/feed_type/file # Define the new location the image will be copied too \n",
    "                    if not os.path.exists(unlabelled_dir/location/feed_type): # Check if the image is already in the new directory, if it is present it will be skipped\n",
    "                        os.makedirs(unlabelled_dir/location/feed_type)\n",
    "                    if not os.path.exists(destination_path):\n",
    "                        shutil.copyfile(src=original_path, \n",
    "                                        dst=destination_path)\n",
    "                except:\n",
    "                    pass"
   ]
  },
  {
   "cell_type": "code",
   "execution_count": null,
   "id": "32c9c47a",
   "metadata": {},
   "outputs": [],
   "source": []
  }
 ],
 "metadata": {
  "kernelspec": {
   "display_name": "Python [conda env:cameratraps-detector] *",
   "language": "python",
   "name": "conda-env-cameratraps-detector-py"
  },
  "language_info": {
   "codemirror_mode": {
    "name": "ipython",
    "version": 3
   },
   "file_extension": ".py",
   "mimetype": "text/x-python",
   "name": "python",
   "nbconvert_exporter": "python",
   "pygments_lexer": "ipython3",
   "version": "3.8.15"
  }
 },
 "nbformat": 4,
 "nbformat_minor": 5
}
