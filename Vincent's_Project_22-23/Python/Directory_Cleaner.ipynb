{
 "cells": [
  {
   "cell_type": "code",
   "execution_count": null,
   "id": "0e886ed9",
   "metadata": {},
   "outputs": [],
   "source": [
    "\"\"\"Reduce storage required on the system deleting the raw_images from the different directories.\n",
    "\"\"\"\n",
    "import pathlib, os\n",
    "def clear_raw_training_data():\n",
    "    training_root_dir = pathlib.Path(\"images\")\n",
    "    for species in os.listdir(training_root_dir/\"raw_images\"):\n",
    "        species_dir = os.path.abspath(pathlib.Path(training_root_dir/\"raw_images\"/species))\n",
    "        print(species_dir)\n",
    "        os.remove(species_dir)\n",
    "def clear_cropped_training_data():\n",
    "    training_root_dir = pathlib.Path(\"images\")\n",
    "    for species in os.listdir(training_root_dir/\"cropped_images\"):\n",
    "        species_dir = os.path.abspath(pathlib.Path(training_root_dir/\"cropped_images\"/species))\n",
    "        print(species_dir)\n",
    "        os.remove(species_dir)\n",
    "    \n",
    "#clear_raw_training_data()\n",
    "#clear_cropped_training_data()"
   ]
  },
  {
   "cell_type": "code",
   "execution_count": null,
   "id": "cd1ce4fe",
   "metadata": {},
   "outputs": [],
   "source": [
    "\"\"\"Delete raw_images from data collected for each location in the \"data\" folder\"\"\"\n",
    "import pathlib, os\n",
    "def clear_raw_collected_data():\n",
    "    root_dir = pathlib.Path(\"data\")\n",
    "    for location in os.listdir(root_dir):\n",
    "        location_dir = root_dir/location\n",
    "        for feed_type in os.listdir(location_dir):\n",
    "            raw_image_dir = location_dir/feed_type/\"raw_images\"\n",
    "            for folder in os.listdir(raw_image_dir):\n",
    "                image_folder_dir = os.path.abspath(raw_image_dir/folder)\n",
    "                #os.remove(image_folder_dir)\n",
    "clear_raw_collected_data()"
   ]
  },
  {
   "cell_type": "code",
   "execution_count": null,
   "id": "a4ddc537",
   "metadata": {},
   "outputs": [],
   "source": []
  }
 ],
 "metadata": {
  "kernelspec": {
   "display_name": "Python [conda env:cameratraps-detector] *",
   "language": "python",
   "name": "conda-env-cameratraps-detector-py"
  },
  "language_info": {
   "codemirror_mode": {
    "name": "ipython",
    "version": 3
   },
   "file_extension": ".py",
   "mimetype": "text/x-python",
   "name": "python",
   "nbconvert_exporter": "python",
   "pygments_lexer": "ipython3",
   "version": "3.8.15"
  }
 },
 "nbformat": 4,
 "nbformat_minor": 5
}
