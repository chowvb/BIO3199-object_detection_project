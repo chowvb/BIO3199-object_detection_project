{
 "cells": [
  {
   "cell_type": "code",
   "execution_count": 1,
   "id": "c4a4bdf8",
   "metadata": {},
   "outputs": [
    {
     "data": {
      "text/plain": [
       "'This script is only used to trim down the original dataset which was 30GB\\nin size. '"
      ]
     },
     "execution_count": 1,
     "metadata": {},
     "output_type": "execute_result"
    }
   ],
   "source": [
    "\"\"\"This script is only used to trim down the original dataset which was 30GB\n",
    "in size. \"\"\""
   ]
  },
  {
   "cell_type": "code",
   "execution_count": 2,
   "id": "f6ec5d20",
   "metadata": {},
   "outputs": [],
   "source": [
    "import os, pathlib, sys, shutil, random \n",
    "from tkinter import *\n",
    "from PIL import ImageTk, Image\n",
    "import numpy as np\n",
    "import tensorflow as tf \n",
    "from tensorflow import keras\n",
    "from tensorflow.keras.models import load_model\n",
    "import matplotlib.pyplot as plt \n",
    "import pandas as pd\n",
    "from sklearn.metrics import ConfusionMatrixDisplay,confusion_matrix"
   ]
  },
  {
   "cell_type": "code",
   "execution_count": 5,
   "id": "9b7395a8",
   "metadata": {},
   "outputs": [],
   "source": [
    "species_list_dir = pathlib.Path(\"training_data/cropped_images\")\n",
    "unlabelled_dir = pathlib.Path(\"test\")\n",
    "labelled_dir = pathlib.Path(\"cm_dataset/labelled\")\n",
    "\n",
    "root_dir = pathlib.Path(\"test_data\")\n",
    "for location in os.listdir(root_dir):\n",
    "    print(location)\n",
    "    location_dir = root_dir/location\n",
    "    for feed_type in os.listdir(location_dir):\n",
    "        print(feed_type)\n",
    "        raw_images_dir = location_dir/feed_type/\"raw_images\"\n",
    "        for folder in os.listdir(raw_images_dir):\n",
    "            folder_dir = raw_images_dir/folder\n",
    "            print(folder)\n",
    "            for i in range(1,5):\n",
    "                try:\n",
    "                    file = random.choice(os.listdir(folder_dir)) # random choice picks out a random file\n",
    "                    original_path = folder_dir/file # Define the original file path \n",
    "                    raw_images_dir = unlabelled_dir/location/feed_type/\"raw_images\"\n",
    "                    destination_path = raw_images_dir/file # Define the new location the image will be copied too \n",
    "                    if not os.path.exists(raw_images_dir): # Check if the image is already in the new directory, if it is present it will be skipped\n",
    "                        os.makedirs(raw_images_dir)\n",
    "                    if not os.path.exists(destination_path):\n",
    "                        shutil.copyfile(src=original_path, \n",
    "                                        dst=destination_path)\n",
    "                except:\n",
    "                    pass"
   ]
  },
  {
   "cell_type": "code",
   "execution_count": null,
   "id": "32c9c47a",
   "metadata": {},
   "outputs": [],
   "source": []
  }
 ],
 "metadata": {
  "kernelspec": {
   "display_name": "Python [conda env:cameratraps-detector] *",
   "language": "python",
   "name": "conda-env-cameratraps-detector-py"
  },
  "language_info": {
   "codemirror_mode": {
    "name": "ipython",
    "version": 3
   },
   "file_extension": ".py",
   "mimetype": "text/x-python",
   "name": "python",
   "nbconvert_exporter": "python",
   "pygments_lexer": "ipython3",
   "version": "3.8.15"
  }
 },
 "nbformat": 4,
 "nbformat_minor": 5
}
