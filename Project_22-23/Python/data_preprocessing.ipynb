{
 "cells": [
  {
   "cell_type": "code",
   "execution_count": 6,
   "id": "ebd27ab6",
   "metadata": {},
   "outputs": [],
   "source": [
    "import os, shutil,pathlib,exifread\n",
    "r\"\"\"Sorting out the raw images collected from camera trap data\n",
    "Loop through each location and subsequent feed type and images by extracting\n",
    "the original date the image taken using exifread.\"\"\"\n",
    "\n",
    "\"\"\"\n",
    "/test_data\n",
    "    - C2\n",
    "    - C3\n",
    "            - fat_balls\n",
    "        - standard_seed\n",
    "        - sunflower_seed\n",
    "            - date ## This folder is created in this cell\n",
    "                - 2022_11_23 ## images capture date is extracted saving the image into a seperate folder into the date/raw_images folder\n",
    "                    - cropped_images ## Images are then cropped using megadetector\n",
    "                    - raw_images ## This folder temporarily stores raw images before they are cropped by megadetector\n",
    "            - raw_images ## Contains the folders of raw images\n",
    "                - 100EK113 ## Images from camera traps are stored in this folder\n",
    "    - C4\n",
    "\"\"\"\n",
    "# Define a working directory pathway \n",
    "cwd = pathlib.Path(\"test_data\")\n",
    "\n",
    "# Loop through each folder within the working direcory\n",
    "for location in os.listdir(cwd):\n",
    "    \n",
    "    # Define new file pathway.  \n",
    "    location_dir = cwd/location \n",
    "    \n",
    "    # Loop through next set of folders \n",
    "    for feed_type in os.listdir(location_dir):\n",
    "        \n",
    "        # Define new folder paths to be used \n",
    "        feed_type_dir = location_dir/feed_type\n",
    "        image_folder_dir = feed_type_dir/\"raw_images\"\n",
    "        \n",
    "        # Loop though each of the image\n",
    "        for image in os.listdir(image_folder_dir):\n",
    "                \n",
    "            # Corrupted files or invalid file types to be passed\n",
    "            try: \n",
    "                \"\"\"Using try/except will pass through corrupt images or files that\n",
    "                do not have an exif data to extract\"\"\"\n",
    "                    \n",
    "                # Create a image file path to the camera trap image \n",
    "                exif_file = str(feed_type_dir/\"raw_images\"/image) \n",
    "                img_file = open(exif_file,\"rb\")\n",
    "                tags = exifread.process_file(img_file)\n",
    "                \"\"\"Extract the tags embedded within the image, in this case the Date and time of original image, for this                     scenario we are only looking for the date so we can extract from within a string just the date and save \n",
    "                    this into a new variable\"\"\"\n",
    "                    \n",
    "                date_of_image = str(tags[\"EXIF DateTimeOriginal\"])\n",
    "                day_of_image = str(date_of_image[0:10])\n",
    "                    \n",
    "                #Replace the : with _ as it will be easier to open at a later point.\n",
    "                date = day_of_image.replace(\":\",\"_\") \n",
    "                \n",
    "                # Define the new file location path for each of the images to be copied to\n",
    "                newpath1 = feed_type_dir/\"date\"/date/\"raw_images\"\n",
    "                img_file.close()\n",
    "                    \n",
    "                \"\"\"Check if there is a directory already set up in the folder directory, if there isn't a new folder will be\n",
    "                made. The image is then checked to prevent any duplication if it has already been copied before\"\"\"\n",
    "                if not os.path.exists(newpath1):\n",
    "                    os.makedirs(newpath1)\n",
    "                dated_image_path = newpath1/image\n",
    "                if not os.path.exists(dated_image_path):\n",
    "                    shutil.copy(exif_file,dated_image_path)\n",
    "            except:\n",
    "                pass       "
   ]
  },
  {
   "cell_type": "code",
   "execution_count": 7,
   "id": "eb6f7598",
   "metadata": {
    "scrolled": true
   },
   "outputs": [
    {
     "name": "stderr",
     "output_type": "stream",
     "text": [
      "WARNING:root:Failed to import geometry msgs in rigid_transformations.py.\n",
      "WARNING:root:Failed to import ros dependencies in rigid_transforms.py\n",
      "WARNING:root:autolab_core not installed as catkin package, RigidTransform ros methods will be unavailable\n"
     ]
    },
    {
     "name": "stdout",
     "output_type": "stream",
     "text": [
      "1 image files found in the input directory\n"
     ]
    },
    {
     "name": "stderr",
     "output_type": "stream",
     "text": [
      "C:\\Users\\vince\\anaconda3\\envs\\cameratraps-detector\\lib\\site-packages\\tqdm\\auto.py:22: TqdmWarning: IProgress not found. Please update jupyter and ipywidgets. See https://ipywidgets.readthedocs.io/en/stable/user_install.html\n",
      "  from .autonotebook import tqdm as notebook_tqdm\n"
     ]
    },
    {
     "name": "stdout",
     "output_type": "stream",
     "text": [
      "PyTorch reports 1 available CUDA devices\n",
      "GPU available: True\n",
      "Using PyTorch version 1.10.1\n"
     ]
    },
    {
     "name": "stderr",
     "output_type": "stream",
     "text": [
      "INFO:yolov5:Fusing layers... \n",
      "Fusing layers... \n",
      "INFO:yolov5:Model summary: 574 layers, 139990096 parameters, 0 gradients\n",
      "Model summary: 574 layers, 139990096 parameters, 0 gradients\n"
     ]
    },
    {
     "name": "stdout",
     "output_type": "stream",
     "text": [
      "Sending model to GPU\n",
      "Loaded model in 4.95 seconds\n",
      "Loaded model in 4.95 seconds\n"
     ]
    },
    {
     "name": "stderr",
     "output_type": "stream",
     "text": [
      "\r",
      "  0%|          | 0/1 [00:00<?, ?it/s]"
     ]
    },
    {
     "name": "stdout",
     "output_type": "stream",
     "text": [
      "Processing image C:\\Users\\vince\\Documents\\BIO3199\\Vincent's_Project\\Python\\test_data\\C2\\fat_balls\\date\\2022_11_25\\raw_images\\11250245.JPG\n"
     ]
    },
    {
     "name": "stderr",
     "output_type": "stream",
     "text": [
      "100%|██████████| 1/1 [00:03<00:00,  3.24s/it]\n"
     ]
    },
    {
     "name": "stdout",
     "output_type": "stream",
     "text": [
      "Finished inference for 1 images in 9.75 seconds\n",
      "Output file saved at C:\\Users\\vince\\Documents\\BIO3199\\Vincent's_Project\\Python\\test_data\\C2\\fat_balls\\date\\2022_11_25\\run_batch_detector_output.json\n",
      "Done!\n",
      "Getting bbox info for 1 images...\n"
     ]
    },
    {
     "name": "stderr",
     "output_type": "stream",
     "text": [
      "100%|██████████| 1/1 [00:00<00:00, 970.90it/s]\n"
     ]
    },
    {
     "name": "stdout",
     "output_type": "stream",
     "text": [
      "Reading/downloading 1 images and cropping...\n"
     ]
    },
    {
     "name": "stderr",
     "output_type": "stream",
     "text": [
      "100%|██████████| 1/1 [00:00<00:00, 15.30it/s]\n"
     ]
    },
    {
     "name": "stdout",
     "output_type": "stream",
     "text": [
      "Downloaded 0 images.\n",
      "Made 1 new crops.\n",
      "0 images failed to download or crop.\n",
      "11250245.JPG  Deleted\n",
      "\n",
      "1 image files found in the input directory\n",
      "PyTorch reports 1 available CUDA devices\n",
      "GPU available: True\n"
     ]
    },
    {
     "name": "stderr",
     "output_type": "stream",
     "text": [
      "INFO:yolov5:Fusing layers... \n",
      "Fusing layers... \n",
      "INFO:yolov5:Model summary: 574 layers, 139990096 parameters, 0 gradients\n",
      "Model summary: 574 layers, 139990096 parameters, 0 gradients\n"
     ]
    },
    {
     "name": "stdout",
     "output_type": "stream",
     "text": [
      "Sending model to GPU\n",
      "Loaded model in 0.9 seconds\n",
      "Loaded model in 0.9 seconds\n"
     ]
    },
    {
     "name": "stderr",
     "output_type": "stream",
     "text": [
      "\r",
      "  0%|          | 0/1 [00:00<?, ?it/s]"
     ]
    },
    {
     "name": "stdout",
     "output_type": "stream",
     "text": [
      "Processing image C:\\Users\\vince\\Documents\\BIO3199\\Vincent's_Project\\Python\\test_data\\C2\\fat_balls\\date\\2022_11_26\\raw_images\\11260442.JPG\n"
     ]
    },
    {
     "name": "stderr",
     "output_type": "stream",
     "text": [
      "100%|██████████| 1/1 [00:00<00:00,  5.19it/s]\n"
     ]
    },
    {
     "name": "stdout",
     "output_type": "stream",
     "text": [
      "Finished inference for 1 images in 1.09 seconds\n",
      "Output file saved at C:\\Users\\vince\\Documents\\BIO3199\\Vincent's_Project\\Python\\test_data\\C2\\fat_balls\\date\\2022_11_26\\run_batch_detector_output.json\n",
      "Done!\n",
      "Getting bbox info for 1 images...\n"
     ]
    },
    {
     "name": "stderr",
     "output_type": "stream",
     "text": [
      "100%|██████████| 1/1 [00:00<00:00, 1034.35it/s]\n"
     ]
    },
    {
     "name": "stdout",
     "output_type": "stream",
     "text": [
      "Reading/downloading 1 images and cropping...\n"
     ]
    },
    {
     "name": "stderr",
     "output_type": "stream",
     "text": [
      "100%|██████████| 1/1 [00:00<?, ?it/s]\n"
     ]
    },
    {
     "name": "stdout",
     "output_type": "stream",
     "text": [
      "Downloaded 0 images.\n",
      "Made 0 new crops.\n",
      "0 images failed to download or crop.\n",
      "11260442.JPG  Deleted\n",
      "\n",
      "1 image files found in the input directory\n",
      "PyTorch reports 1 available CUDA devices\n",
      "GPU available: True\n"
     ]
    },
    {
     "name": "stderr",
     "output_type": "stream",
     "text": [
      "INFO:yolov5:Fusing layers... \n",
      "Fusing layers... \n",
      "INFO:yolov5:Model summary: 574 layers, 139990096 parameters, 0 gradients\n",
      "Model summary: 574 layers, 139990096 parameters, 0 gradients\n"
     ]
    },
    {
     "name": "stdout",
     "output_type": "stream",
     "text": [
      "Sending model to GPU\n",
      "Loaded model in 0.97 seconds\n",
      "Loaded model in 0.97 seconds\n"
     ]
    },
    {
     "name": "stderr",
     "output_type": "stream",
     "text": [
      "100%|██████████| 1/1 [00:00<00:00,  5.72it/s]"
     ]
    },
    {
     "name": "stdout",
     "output_type": "stream",
     "text": [
      "Processing image C:\\Users\\vince\\Documents\\BIO3199\\Vincent's_Project\\Python\\test_data\\C2\\fat_balls\\date\\2022_11_27\\raw_images\\11270477.JPG\n"
     ]
    },
    {
     "name": "stderr",
     "output_type": "stream",
     "text": [
      "100%|██████████| 1/1 [00:00<00:00,  5.58it/s]\n"
     ]
    },
    {
     "name": "stdout",
     "output_type": "stream",
     "text": [
      "Finished inference for 1 images in 1.16 seconds\n",
      "Output file saved at C:\\Users\\vince\\Documents\\BIO3199\\Vincent's_Project\\Python\\test_data\\C2\\fat_balls\\date\\2022_11_27\\run_batch_detector_output.json\n",
      "Done!\n",
      "Getting bbox info for 1 images...\n"
     ]
    },
    {
     "name": "stderr",
     "output_type": "stream",
     "text": [
      "100%|██████████| 1/1 [00:00<?, ?it/s]\n"
     ]
    },
    {
     "name": "stdout",
     "output_type": "stream",
     "text": [
      "Reading/downloading 1 images and cropping...\n"
     ]
    },
    {
     "name": "stderr",
     "output_type": "stream",
     "text": [
      "100%|██████████| 1/1 [00:00<?, ?it/s]\n"
     ]
    },
    {
     "name": "stdout",
     "output_type": "stream",
     "text": [
      "Downloaded 0 images.\n",
      "Made 0 new crops.\n",
      "0 images failed to download or crop.\n",
      "11270477.JPG  Deleted\n",
      "\n",
      "3 image files found in the input directory\n",
      "PyTorch reports 1 available CUDA devices\n",
      "GPU available: True\n"
     ]
    },
    {
     "name": "stderr",
     "output_type": "stream",
     "text": [
      "INFO:yolov5:Fusing layers... \n",
      "Fusing layers... \n",
      "INFO:yolov5:Model summary: 574 layers, 139990096 parameters, 0 gradients\n",
      "Model summary: 574 layers, 139990096 parameters, 0 gradients\n"
     ]
    },
    {
     "name": "stdout",
     "output_type": "stream",
     "text": [
      "Sending model to GPU\n",
      "Loaded model in 0.92 seconds\n",
      "Loaded model in 0.92 seconds\n"
     ]
    },
    {
     "name": "stderr",
     "output_type": "stream",
     "text": [
      " 33%|███▎      | 1/3 [00:00<00:00,  5.50it/s]"
     ]
    },
    {
     "name": "stdout",
     "output_type": "stream",
     "text": [
      "Processing image C:\\Users\\vince\\Documents\\BIO3199\\Vincent's_Project\\Python\\test_data\\C2\\fat_balls\\date\\2022_12_03\\raw_images\\12030071.JPG\n"
     ]
    },
    {
     "name": "stderr",
     "output_type": "stream",
     "text": [
      "\r",
      " 67%|██████▋   | 2/3 [00:00<00:00,  5.61it/s]"
     ]
    },
    {
     "name": "stdout",
     "output_type": "stream",
     "text": [
      "Processing image C:\\Users\\vince\\Documents\\BIO3199\\Vincent's_Project\\Python\\test_data\\C2\\fat_balls\\date\\2022_12_03\\raw_images\\12030284.JPG\n",
      "Processing image C:\\Users\\vince\\Documents\\BIO3199\\Vincent's_Project\\Python\\test_data\\C2\\fat_balls\\date\\2022_12_03\\raw_images\\12030379.JPG\n"
     ]
    },
    {
     "name": "stderr",
     "output_type": "stream",
     "text": [
      "100%|██████████| 3/3 [00:00<00:00,  5.59it/s]\n"
     ]
    },
    {
     "name": "stdout",
     "output_type": "stream",
     "text": [
      "Finished inference for 3 images in 1.46 seconds\n",
      "Output file saved at C:\\Users\\vince\\Documents\\BIO3199\\Vincent's_Project\\Python\\test_data\\C2\\fat_balls\\date\\2022_12_03\\run_batch_detector_output.json\n",
      "Done!\n",
      "Getting bbox info for 3 images...\n"
     ]
    },
    {
     "name": "stderr",
     "output_type": "stream",
     "text": [
      "100%|██████████| 3/3 [00:00<?, ?it/s]\n"
     ]
    },
    {
     "name": "stdout",
     "output_type": "stream",
     "text": [
      "Reading/downloading 3 images and cropping...\n"
     ]
    },
    {
     "name": "stderr",
     "output_type": "stream",
     "text": [
      "100%|██████████| 3/3 [00:00<00:00, 14.03it/s]\n"
     ]
    },
    {
     "name": "stdout",
     "output_type": "stream",
     "text": [
      "Downloaded 0 images.\n",
      "Made 4 new crops.\n",
      "0 images failed to download or crop.\n",
      "12030071.JPG  Deleted\n",
      "12030284.JPG  Deleted\n",
      "12030379.JPG  Deleted\n",
      "\n",
      "1 image files found in the input directory\n",
      "PyTorch reports 1 available CUDA devices\n",
      "GPU available: True\n"
     ]
    },
    {
     "name": "stderr",
     "output_type": "stream",
     "text": [
      "INFO:yolov5:Fusing layers... \n",
      "Fusing layers... \n",
      "INFO:yolov5:Model summary: 574 layers, 139990096 parameters, 0 gradients\n",
      "Model summary: 574 layers, 139990096 parameters, 0 gradients\n"
     ]
    },
    {
     "name": "stdout",
     "output_type": "stream",
     "text": [
      "Sending model to GPU\n",
      "Loaded model in 0.9 seconds\n",
      "Loaded model in 0.9 seconds\n"
     ]
    },
    {
     "name": "stderr",
     "output_type": "stream",
     "text": [
      "100%|██████████| 1/1 [00:00<00:00,  5.69it/s]"
     ]
    },
    {
     "name": "stdout",
     "output_type": "stream",
     "text": [
      "Processing image C:\\Users\\vince\\Documents\\BIO3199\\Vincent's_Project\\Python\\test_data\\C2\\fat_balls\\date\\2022_12_05\\raw_images\\12050595.JPG\n"
     ]
    },
    {
     "name": "stderr",
     "output_type": "stream",
     "text": [
      "100%|██████████| 1/1 [00:00<00:00,  5.65it/s]\n"
     ]
    },
    {
     "name": "stdout",
     "output_type": "stream",
     "text": [
      "Finished inference for 1 images in 1.08 seconds\n",
      "Output file saved at C:\\Users\\vince\\Documents\\BIO3199\\Vincent's_Project\\Python\\test_data\\C2\\fat_balls\\date\\2022_12_05\\run_batch_detector_output.json\n",
      "Done!\n",
      "Getting bbox info for 1 images...\n"
     ]
    },
    {
     "name": "stderr",
     "output_type": "stream",
     "text": [
      "100%|██████████| 1/1 [00:00<00:00, 1002.46it/s]\n"
     ]
    },
    {
     "name": "stdout",
     "output_type": "stream",
     "text": [
      "Reading/downloading 1 images and cropping...\n"
     ]
    },
    {
     "name": "stderr",
     "output_type": "stream",
     "text": [
      "100%|██████████| 1/1 [00:00<?, ?it/s]\n"
     ]
    },
    {
     "name": "stdout",
     "output_type": "stream",
     "text": [
      "Downloaded 0 images.\n",
      "Made 0 new crops.\n",
      "0 images failed to download or crop.\n",
      "12050595.JPG  Deleted\n",
      "\n",
      "8 image files found in the input directory\n",
      "PyTorch reports 1 available CUDA devices\n",
      "GPU available: True\n"
     ]
    },
    {
     "name": "stderr",
     "output_type": "stream",
     "text": [
      "INFO:yolov5:Fusing layers... \n",
      "Fusing layers... \n",
      "INFO:yolov5:Model summary: 574 layers, 139990096 parameters, 0 gradients\n",
      "Model summary: 574 layers, 139990096 parameters, 0 gradients\n"
     ]
    },
    {
     "name": "stdout",
     "output_type": "stream",
     "text": [
      "Sending model to GPU\n",
      "Loaded model in 0.9 seconds\n",
      "Loaded model in 0.9 seconds\n"
     ]
    },
    {
     "name": "stderr",
     "output_type": "stream",
     "text": [
      " 12%|█▎        | 1/8 [00:00<00:01,  5.61it/s]"
     ]
    },
    {
     "name": "stdout",
     "output_type": "stream",
     "text": [
      "Processing image C:\\Users\\vince\\Documents\\BIO3199\\Vincent's_Project\\Python\\test_data\\C2\\fat_balls\\date\\2022_12_06\\raw_images\\12060003.JPG\n",
      "Processing image C:\\Users\\vince\\Documents\\BIO3199\\Vincent's_Project\\Python\\test_data\\C2\\fat_balls\\date\\2022_12_06\\raw_images\\12060026.JPG\n"
     ]
    },
    {
     "name": "stderr",
     "output_type": "stream",
     "text": [
      "\r",
      " 25%|██▌       | 2/8 [00:00<00:01,  5.68it/s]"
     ]
    },
    {
     "name": "stdout",
     "output_type": "stream",
     "text": [
      "Processing image C:\\Users\\vince\\Documents\\BIO3199\\Vincent's_Project\\Python\\test_data\\C2\\fat_balls\\date\\2022_12_06\\raw_images\\12060105.JPG\n"
     ]
    },
    {
     "name": "stderr",
     "output_type": "stream",
     "text": [
      "\r",
      " 38%|███▊      | 3/8 [00:00<00:00,  5.66it/s]"
     ]
    },
    {
     "name": "stdout",
     "output_type": "stream",
     "text": [
      "Processing image C:\\Users\\vince\\Documents\\BIO3199\\Vincent's_Project\\Python\\test_data\\C2\\fat_balls\\date\\2022_12_06\\raw_images\\12060109.JPG\n"
     ]
    },
    {
     "name": "stderr",
     "output_type": "stream",
     "text": [
      "\r",
      " 50%|█████     | 4/8 [00:00<00:00,  5.67it/s]"
     ]
    },
    {
     "name": "stdout",
     "output_type": "stream",
     "text": [
      "Processing image C:\\Users\\vince\\Documents\\BIO3199\\Vincent's_Project\\Python\\test_data\\C2\\fat_balls\\date\\2022_12_06\\raw_images\\12060307.JPG\n"
     ]
    },
    {
     "name": "stderr",
     "output_type": "stream",
     "text": [
      "\r",
      " 62%|██████▎   | 5/8 [00:00<00:00,  5.72it/s]"
     ]
    },
    {
     "name": "stdout",
     "output_type": "stream",
     "text": [
      "Processing image C:\\Users\\vince\\Documents\\BIO3199\\Vincent's_Project\\Python\\test_data\\C2\\fat_balls\\date\\2022_12_06\\raw_images\\12060571.JPG\n"
     ]
    },
    {
     "name": "stderr",
     "output_type": "stream",
     "text": [
      " 88%|████████▊ | 7/8 [00:01<00:00,  5.63it/s]"
     ]
    },
    {
     "name": "stdout",
     "output_type": "stream",
     "text": [
      "Processing image C:\\Users\\vince\\Documents\\BIO3199\\Vincent's_Project\\Python\\test_data\\C2\\fat_balls\\date\\2022_12_06\\raw_images\\12060775.JPG\n",
      "Processing image C:\\Users\\vince\\Documents\\BIO3199\\Vincent's_Project\\Python\\test_data\\C2\\fat_balls\\date\\2022_12_06\\raw_images\\12060934.JPG\n"
     ]
    },
    {
     "name": "stderr",
     "output_type": "stream",
     "text": [
      "100%|██████████| 8/8 [00:01<00:00,  5.64it/s]\n"
     ]
    },
    {
     "name": "stdout",
     "output_type": "stream",
     "text": [
      "Finished inference for 8 images in 2.32 seconds\n",
      "Output file saved at C:\\Users\\vince\\Documents\\BIO3199\\Vincent's_Project\\Python\\test_data\\C2\\fat_balls\\date\\2022_12_06\\run_batch_detector_output.json\n",
      "Done!\n",
      "Getting bbox info for 8 images...\n"
     ]
    },
    {
     "name": "stderr",
     "output_type": "stream",
     "text": [
      "100%|██████████| 8/8 [00:00<00:00, 8021.62it/s]\n"
     ]
    },
    {
     "name": "stdout",
     "output_type": "stream",
     "text": [
      "Reading/downloading 8 images and cropping...\n"
     ]
    },
    {
     "name": "stderr",
     "output_type": "stream",
     "text": [
      "100%|██████████| 8/8 [00:00<00:00, 26.57it/s]\n"
     ]
    },
    {
     "name": "stdout",
     "output_type": "stream",
     "text": [
      "Downloaded 0 images.\n",
      "Made 5 new crops.\n",
      "0 images failed to download or crop.\n",
      "12060003.JPG  Deleted\n",
      "12060026.JPG  Deleted\n",
      "12060105.JPG  Deleted\n",
      "12060109.JPG  Deleted\n",
      "12060307.JPG  Deleted\n",
      "12060571.JPG  Deleted\n",
      "12060775.JPG  Deleted\n",
      "12060934.JPG  Deleted\n",
      "\n",
      "1 image files found in the input directory\n",
      "PyTorch reports 1 available CUDA devices\n",
      "GPU available: True\n"
     ]
    },
    {
     "name": "stderr",
     "output_type": "stream",
     "text": [
      "INFO:yolov5:Fusing layers... \n",
      "Fusing layers... \n",
      "INFO:yolov5:Model summary: 574 layers, 139990096 parameters, 0 gradients\n",
      "Model summary: 574 layers, 139990096 parameters, 0 gradients\n"
     ]
    },
    {
     "name": "stdout",
     "output_type": "stream",
     "text": [
      "Sending model to GPU\n",
      "Loaded model in 0.91 seconds\n",
      "Loaded model in 0.91 seconds\n"
     ]
    },
    {
     "name": "stderr",
     "output_type": "stream",
     "text": [
      "100%|██████████| 1/1 [00:00<00:00,  5.65it/s]"
     ]
    },
    {
     "name": "stdout",
     "output_type": "stream",
     "text": [
      "Processing image C:\\Users\\vince\\Documents\\BIO3199\\Vincent's_Project\\Python\\test_data\\C2\\fat_balls\\date\\2022_12_07\\raw_images\\12070972.JPG\n"
     ]
    },
    {
     "name": "stderr",
     "output_type": "stream",
     "text": [
      "100%|██████████| 1/1 [00:00<00:00,  5.65it/s]\n"
     ]
    },
    {
     "name": "stdout",
     "output_type": "stream",
     "text": [
      "Finished inference for 1 images in 1.09 seconds\n",
      "Output file saved at C:\\Users\\vince\\Documents\\BIO3199\\Vincent's_Project\\Python\\test_data\\C2\\fat_balls\\date\\2022_12_07\\run_batch_detector_output.json\n",
      "Done!\n",
      "Getting bbox info for 1 images...\n"
     ]
    },
    {
     "name": "stderr",
     "output_type": "stream",
     "text": [
      "100%|██████████| 1/1 [00:00<?, ?it/s]\n"
     ]
    },
    {
     "name": "stdout",
     "output_type": "stream",
     "text": [
      "Reading/downloading 1 images and cropping...\n"
     ]
    },
    {
     "name": "stderr",
     "output_type": "stream",
     "text": [
      "100%|██████████| 1/1 [00:00<?, ?it/s]\n"
     ]
    },
    {
     "name": "stdout",
     "output_type": "stream",
     "text": [
      "Downloaded 0 images.\n",
      "Made 0 new crops.\n",
      "0 images failed to download or crop.\n",
      "12070972.JPG  Deleted\n",
      "\n",
      "3 image files found in the input directory\n",
      "PyTorch reports 1 available CUDA devices\n",
      "GPU available: True\n"
     ]
    },
    {
     "name": "stderr",
     "output_type": "stream",
     "text": [
      "INFO:yolov5:Fusing layers... \n",
      "Fusing layers... \n",
      "INFO:yolov5:Model summary: 574 layers, 139990096 parameters, 0 gradients\n",
      "Model summary: 574 layers, 139990096 parameters, 0 gradients\n"
     ]
    },
    {
     "name": "stdout",
     "output_type": "stream",
     "text": [
      "Sending model to GPU\n",
      "Loaded model in 0.9 seconds\n",
      "Loaded model in 0.9 seconds\n"
     ]
    },
    {
     "name": "stderr",
     "output_type": "stream",
     "text": [
      "\r",
      "  0%|          | 0/3 [00:00<?, ?it/s]"
     ]
    },
    {
     "name": "stdout",
     "output_type": "stream",
     "text": [
      "Processing image C:\\Users\\vince\\Documents\\BIO3199\\Vincent's_Project\\Python\\test_data\\C2\\fat_balls\\date\\2022_12_08\\raw_images\\12080072.JPG\n"
     ]
    },
    {
     "name": "stderr",
     "output_type": "stream",
     "text": [
      " 67%|██████▋   | 2/3 [00:00<00:00,  5.20it/s]"
     ]
    },
    {
     "name": "stdout",
     "output_type": "stream",
     "text": [
      "Processing image C:\\Users\\vince\\Documents\\BIO3199\\Vincent's_Project\\Python\\test_data\\C2\\fat_balls\\date\\2022_12_08\\raw_images\\12080213.JPG\n",
      "Processing image C:\\Users\\vince\\Documents\\BIO3199\\Vincent's_Project\\Python\\test_data\\C2\\fat_balls\\date\\2022_12_08\\raw_images\\12080575.JPG\n"
     ]
    },
    {
     "name": "stderr",
     "output_type": "stream",
     "text": [
      "100%|██████████| 3/3 [00:00<00:00,  5.29it/s]\n"
     ]
    },
    {
     "name": "stdout",
     "output_type": "stream",
     "text": [
      "Finished inference for 3 images in 1.47 seconds\n",
      "Output file saved at C:\\Users\\vince\\Documents\\BIO3199\\Vincent's_Project\\Python\\test_data\\C2\\fat_balls\\date\\2022_12_08\\run_batch_detector_output.json\n",
      "Done!\n",
      "Getting bbox info for 3 images...\n"
     ]
    },
    {
     "name": "stderr",
     "output_type": "stream",
     "text": [
      "100%|██████████| 3/3 [00:00<?, ?it/s]\n"
     ]
    },
    {
     "name": "stdout",
     "output_type": "stream",
     "text": [
      "Reading/downloading 3 images and cropping...\n"
     ]
    },
    {
     "name": "stderr",
     "output_type": "stream",
     "text": [
      "100%|██████████| 3/3 [00:00<?, ?it/s]\n"
     ]
    },
    {
     "name": "stdout",
     "output_type": "stream",
     "text": [
      "Downloaded 0 images.\n",
      "Made 0 new crops.\n",
      "0 images failed to download or crop.\n",
      "12080072.JPG  Deleted\n",
      "12080213.JPG  Deleted\n",
      "12080575.JPG  Deleted\n",
      "\n",
      "1 image files found in the input directory\n",
      "PyTorch reports 1 available CUDA devices\n",
      "GPU available: True\n"
     ]
    },
    {
     "name": "stderr",
     "output_type": "stream",
     "text": [
      "INFO:yolov5:Fusing layers... \n",
      "Fusing layers... \n",
      "INFO:yolov5:Model summary: 574 layers, 139990096 parameters, 0 gradients\n",
      "Model summary: 574 layers, 139990096 parameters, 0 gradients\n"
     ]
    },
    {
     "name": "stdout",
     "output_type": "stream",
     "text": [
      "Sending model to GPU\n",
      "Loaded model in 0.93 seconds\n",
      "Loaded model in 0.93 seconds\n"
     ]
    },
    {
     "name": "stderr",
     "output_type": "stream",
     "text": [
      "100%|██████████| 1/1 [00:00<00:00,  5.51it/s]\n"
     ]
    },
    {
     "name": "stdout",
     "output_type": "stream",
     "text": [
      "Processing image C:\\Users\\vince\\Documents\\BIO3199\\Vincent's_Project\\Python\\test_data\\C2\\fat_balls\\date\\2022_12_09\\raw_images\\12090252.JPG\n",
      "Finished inference for 1 images in 1.11 seconds\n",
      "Output file saved at C:\\Users\\vince\\Documents\\BIO3199\\Vincent's_Project\\Python\\test_data\\C2\\fat_balls\\date\\2022_12_09\\run_batch_detector_output.json\n",
      "Done!\n",
      "Getting bbox info for 1 images...\n"
     ]
    },
    {
     "name": "stderr",
     "output_type": "stream",
     "text": [
      "100%|██████████| 1/1 [00:00<?, ?it/s]\n"
     ]
    },
    {
     "name": "stdout",
     "output_type": "stream",
     "text": [
      "Reading/downloading 1 images and cropping...\n"
     ]
    },
    {
     "name": "stderr",
     "output_type": "stream",
     "text": [
      "100%|██████████| 1/1 [00:00<00:00, 14.56it/s]\n"
     ]
    },
    {
     "name": "stdout",
     "output_type": "stream",
     "text": [
      "Downloaded 0 images.\n",
      "Made 1 new crops.\n",
      "0 images failed to download or crop.\n",
      "12090252.JPG  Deleted\n",
      "\n",
      "\n",
      "1 image files found in the input directory\n",
      "PyTorch reports 1 available CUDA devices\n",
      "GPU available: True\n"
     ]
    },
    {
     "name": "stderr",
     "output_type": "stream",
     "text": [
      "INFO:yolov5:Fusing layers... \n",
      "Fusing layers... \n",
      "INFO:yolov5:Model summary: 574 layers, 139990096 parameters, 0 gradients\n",
      "Model summary: 574 layers, 139990096 parameters, 0 gradients\n"
     ]
    },
    {
     "name": "stdout",
     "output_type": "stream",
     "text": [
      "Sending model to GPU\n",
      "Loaded model in 0.97 seconds\n",
      "Loaded model in 0.97 seconds\n"
     ]
    },
    {
     "name": "stderr",
     "output_type": "stream",
     "text": [
      "100%|██████████| 1/1 [00:00<00:00,  4.64it/s]"
     ]
    },
    {
     "name": "stdout",
     "output_type": "stream",
     "text": [
      "Processing image C:\\Users\\vince\\Documents\\BIO3199\\Vincent's_Project\\Python\\test_data\\C2\\standard_seed\\date\\2022_12_12\\raw_images\\12120614.JPG\n"
     ]
    },
    {
     "name": "stderr",
     "output_type": "stream",
     "text": [
      "100%|██████████| 1/1 [00:00<00:00,  4.62it/s]\n"
     ]
    },
    {
     "name": "stdout",
     "output_type": "stream",
     "text": [
      "Finished inference for 1 images in 1.19 seconds\n",
      "Output file saved at C:\\Users\\vince\\Documents\\BIO3199\\Vincent's_Project\\Python\\test_data\\C2\\standard_seed\\date\\2022_12_12\\run_batch_detector_output.json\n",
      "Done!\n",
      "Getting bbox info for 1 images...\n"
     ]
    },
    {
     "name": "stderr",
     "output_type": "stream",
     "text": [
      "100%|██████████| 1/1 [00:00<00:00, 1002.46it/s]\n"
     ]
    },
    {
     "name": "stdout",
     "output_type": "stream",
     "text": [
      "Reading/downloading 1 images and cropping...\n"
     ]
    },
    {
     "name": "stderr",
     "output_type": "stream",
     "text": [
      "100%|██████████| 1/1 [00:00<00:00, 16.42it/s]\n"
     ]
    },
    {
     "name": "stdout",
     "output_type": "stream",
     "text": [
      "Downloaded 0 images.\n",
      "Made 1 new crops.\n",
      "0 images failed to download or crop.\n",
      "12120614.JPG  Deleted\n",
      "\n",
      "2 image files found in the input directory\n",
      "PyTorch reports 1 available CUDA devices\n",
      "GPU available: True\n"
     ]
    },
    {
     "name": "stderr",
     "output_type": "stream",
     "text": [
      "INFO:yolov5:Fusing layers... \n",
      "Fusing layers... \n",
      "INFO:yolov5:Model summary: 574 layers, 139990096 parameters, 0 gradients\n",
      "Model summary: 574 layers, 139990096 parameters, 0 gradients\n"
     ]
    },
    {
     "name": "stdout",
     "output_type": "stream",
     "text": [
      "Sending model to GPU\n",
      "Loaded model in 0.9 seconds\n",
      "Loaded model in 0.9 seconds\n"
     ]
    },
    {
     "name": "stderr",
     "output_type": "stream",
     "text": [
      " 50%|█████     | 1/2 [00:00<00:00,  5.76it/s]"
     ]
    },
    {
     "name": "stdout",
     "output_type": "stream",
     "text": [
      "Processing image C:\\Users\\vince\\Documents\\BIO3199\\Vincent's_Project\\Python\\test_data\\C2\\standard_seed\\date\\2022_12_13\\raw_images\\12130141.JPG\n",
      "Processing image C:\\Users\\vince\\Documents\\BIO3199\\Vincent's_Project\\Python\\test_data\\C2\\standard_seed\\date\\2022_12_13\\raw_images\\12130202.JPG\n"
     ]
    },
    {
     "name": "stderr",
     "output_type": "stream",
     "text": [
      "100%|██████████| 2/2 [00:00<00:00,  5.71it/s]\n"
     ]
    },
    {
     "name": "stdout",
     "output_type": "stream",
     "text": [
      "Finished inference for 2 images in 1.25 seconds\n",
      "Output file saved at C:\\Users\\vince\\Documents\\BIO3199\\Vincent's_Project\\Python\\test_data\\C2\\standard_seed\\date\\2022_12_13\\run_batch_detector_output.json\n",
      "Done!\n",
      "Getting bbox info for 2 images...\n"
     ]
    },
    {
     "name": "stderr",
     "output_type": "stream",
     "text": [
      "100%|██████████| 2/2 [00:00<?, ?it/s]\n"
     ]
    },
    {
     "name": "stdout",
     "output_type": "stream",
     "text": [
      "Reading/downloading 2 images and cropping...\n"
     ]
    },
    {
     "name": "stderr",
     "output_type": "stream",
     "text": [
      "100%|██████████| 2/2 [00:00<00:00, 31.32it/s]\n"
     ]
    },
    {
     "name": "stdout",
     "output_type": "stream",
     "text": [
      "Downloaded 0 images.\n",
      "Made 1 new crops.\n",
      "0 images failed to download or crop.\n",
      "12130141.JPG  Deleted\n",
      "12130202.JPG  Deleted\n",
      "\n",
      "1 image files found in the input directory\n",
      "PyTorch reports 1 available CUDA devices\n",
      "GPU available: True\n"
     ]
    },
    {
     "name": "stderr",
     "output_type": "stream",
     "text": [
      "INFO:yolov5:Fusing layers... \n",
      "Fusing layers... \n",
      "INFO:yolov5:Model summary: 574 layers, 139990096 parameters, 0 gradients\n",
      "Model summary: 574 layers, 139990096 parameters, 0 gradients\n"
     ]
    },
    {
     "name": "stdout",
     "output_type": "stream",
     "text": [
      "Sending model to GPU\n",
      "Loaded model in 0.9 seconds\n",
      "Loaded model in 0.91 seconds\n"
     ]
    },
    {
     "name": "stderr",
     "output_type": "stream",
     "text": [
      "100%|██████████| 1/1 [00:00<00:00,  5.74it/s]\n"
     ]
    },
    {
     "name": "stdout",
     "output_type": "stream",
     "text": [
      "Processing image C:\\Users\\vince\\Documents\\BIO3199\\Vincent's_Project\\Python\\test_data\\C2\\standard_seed\\date\\2022_12_15\\raw_images\\12150270.JPG\n",
      "Finished inference for 1 images in 1.08 seconds\n",
      "Output file saved at C:\\Users\\vince\\Documents\\BIO3199\\Vincent's_Project\\Python\\test_data\\C2\\standard_seed\\date\\2022_12_15\\run_batch_detector_output.json\n",
      "Done!\n",
      "Getting bbox info for 1 images...\n"
     ]
    },
    {
     "name": "stderr",
     "output_type": "stream",
     "text": [
      "100%|██████████| 1/1 [00:00<00:00, 1002.94it/s]\n"
     ]
    },
    {
     "name": "stdout",
     "output_type": "stream",
     "text": [
      "Reading/downloading 1 images and cropping...\n"
     ]
    },
    {
     "name": "stderr",
     "output_type": "stream",
     "text": [
      "100%|██████████| 1/1 [00:00<?, ?it/s]\n"
     ]
    },
    {
     "name": "stdout",
     "output_type": "stream",
     "text": [
      "Downloaded 0 images.\n",
      "Made 0 new crops.\n",
      "0 images failed to download or crop.\n",
      "12150270.JPG  Deleted\n",
      "\n",
      "1 image files found in the input directory\n",
      "PyTorch reports 1 available CUDA devices\n",
      "GPU available: True\n"
     ]
    },
    {
     "name": "stderr",
     "output_type": "stream",
     "text": [
      "INFO:yolov5:Fusing layers... \n",
      "Fusing layers... \n",
      "INFO:yolov5:Model summary: 574 layers, 139990096 parameters, 0 gradients\n",
      "Model summary: 574 layers, 139990096 parameters, 0 gradients\n"
     ]
    },
    {
     "name": "stdout",
     "output_type": "stream",
     "text": [
      "Sending model to GPU\n",
      "Loaded model in 0.89 seconds\n",
      "Loaded model in 0.89 seconds\n"
     ]
    },
    {
     "name": "stderr",
     "output_type": "stream",
     "text": [
      "\r",
      "  0%|          | 0/1 [00:00<?, ?it/s]"
     ]
    },
    {
     "name": "stdout",
     "output_type": "stream",
     "text": [
      "Processing image C:\\Users\\vince\\Documents\\BIO3199\\Vincent's_Project\\Python\\test_data\\C2\\standard_seed\\date\\2022_12_16\\raw_images\\12160560.JPG\n"
     ]
    },
    {
     "name": "stderr",
     "output_type": "stream",
     "text": [
      "100%|██████████| 1/1 [00:00<00:00,  4.45it/s]\n"
     ]
    },
    {
     "name": "stdout",
     "output_type": "stream",
     "text": [
      "Finished inference for 1 images in 1.12 seconds\n",
      "Output file saved at C:\\Users\\vince\\Documents\\BIO3199\\Vincent's_Project\\Python\\test_data\\C2\\standard_seed\\date\\2022_12_16\\run_batch_detector_output.json\n",
      "Done!\n",
      "Getting bbox info for 1 images...\n"
     ]
    },
    {
     "name": "stderr",
     "output_type": "stream",
     "text": [
      "100%|██████████| 1/1 [00:00<00:00, 1004.62it/s]\n"
     ]
    },
    {
     "name": "stdout",
     "output_type": "stream",
     "text": [
      "Reading/downloading 1 images and cropping...\n"
     ]
    },
    {
     "name": "stderr",
     "output_type": "stream",
     "text": [
      "100%|██████████| 1/1 [00:00<?, ?it/s]\n"
     ]
    },
    {
     "name": "stdout",
     "output_type": "stream",
     "text": [
      "Downloaded 0 images.\n",
      "Made 0 new crops.\n",
      "0 images failed to download or crop.\n",
      "12160560.JPG  Deleted\n",
      "\n",
      "1 image files found in the input directory\n",
      "PyTorch reports 1 available CUDA devices\n",
      "GPU available: True\n"
     ]
    },
    {
     "name": "stderr",
     "output_type": "stream",
     "text": [
      "INFO:yolov5:Fusing layers... \n",
      "Fusing layers... \n",
      "INFO:yolov5:Model summary: 574 layers, 139990096 parameters, 0 gradients\n",
      "Model summary: 574 layers, 139990096 parameters, 0 gradients\n"
     ]
    },
    {
     "name": "stdout",
     "output_type": "stream",
     "text": [
      "Sending model to GPU\n",
      "Loaded model in 0.91 seconds\n",
      "Loaded model in 0.91 seconds\n"
     ]
    },
    {
     "name": "stderr",
     "output_type": "stream",
     "text": [
      "100%|██████████| 1/1 [00:00<00:00,  5.79it/s]\n"
     ]
    },
    {
     "name": "stdout",
     "output_type": "stream",
     "text": [
      "Processing image C:\\Users\\vince\\Documents\\BIO3199\\Vincent's_Project\\Python\\test_data\\C2\\standard_seed\\date\\2022_12_18\\raw_images\\12180891.JPG\n",
      "Finished inference for 1 images in 1.08 seconds\n",
      "Output file saved at C:\\Users\\vince\\Documents\\BIO3199\\Vincent's_Project\\Python\\test_data\\C2\\standard_seed\\date\\2022_12_18\\run_batch_detector_output.json\n",
      "Done!\n",
      "Getting bbox info for 1 images...\n"
     ]
    },
    {
     "name": "stderr",
     "output_type": "stream",
     "text": [
      "100%|██████████| 1/1 [00:00<?, ?it/s]\n"
     ]
    },
    {
     "name": "stdout",
     "output_type": "stream",
     "text": [
      "Reading/downloading 1 images and cropping...\n"
     ]
    },
    {
     "name": "stderr",
     "output_type": "stream",
     "text": [
      "100%|██████████| 1/1 [00:00<?, ?it/s]\n"
     ]
    },
    {
     "name": "stdout",
     "output_type": "stream",
     "text": [
      "Downloaded 0 images.\n",
      "Made 0 new crops.\n",
      "0 images failed to download or crop.\n",
      "12180891.JPG  Deleted\n",
      "\n",
      "2 image files found in the input directory\n",
      "PyTorch reports 1 available CUDA devices\n",
      "GPU available: True\n"
     ]
    },
    {
     "name": "stderr",
     "output_type": "stream",
     "text": [
      "INFO:yolov5:Fusing layers... \n",
      "Fusing layers... \n",
      "INFO:yolov5:Model summary: 574 layers, 139990096 parameters, 0 gradients\n",
      "Model summary: 574 layers, 139990096 parameters, 0 gradients\n"
     ]
    },
    {
     "name": "stdout",
     "output_type": "stream",
     "text": [
      "Sending model to GPU\n",
      "Loaded model in 0.91 seconds\n",
      "Loaded model in 0.91 seconds\n"
     ]
    },
    {
     "name": "stderr",
     "output_type": "stream",
     "text": [
      " 50%|█████     | 1/2 [00:00<00:00,  5.51it/s]"
     ]
    },
    {
     "name": "stdout",
     "output_type": "stream",
     "text": [
      "Processing image C:\\Users\\vince\\Documents\\BIO3199\\Vincent's_Project\\Python\\test_data\\C2\\standard_seed\\date\\2022_12_19\\raw_images\\12190041.JPG\n"
     ]
    },
    {
     "name": "stderr",
     "output_type": "stream",
     "text": [
      "100%|██████████| 2/2 [00:00<00:00,  5.70it/s]\n"
     ]
    },
    {
     "name": "stdout",
     "output_type": "stream",
     "text": [
      "Processing image C:\\Users\\vince\\Documents\\BIO3199\\Vincent's_Project\\Python\\test_data\\C2\\standard_seed\\date\\2022_12_19\\raw_images\\12190267.JPG\n",
      "Finished inference for 2 images in 1.26 seconds\n",
      "Output file saved at C:\\Users\\vince\\Documents\\BIO3199\\Vincent's_Project\\Python\\test_data\\C2\\standard_seed\\date\\2022_12_19\\run_batch_detector_output.json\n",
      "Done!\n",
      "Getting bbox info for 2 images...\n"
     ]
    },
    {
     "name": "stderr",
     "output_type": "stream",
     "text": [
      "100%|██████████| 2/2 [00:00<?, ?it/s]\n"
     ]
    },
    {
     "name": "stdout",
     "output_type": "stream",
     "text": [
      "Reading/downloading 2 images and cropping...\n"
     ]
    },
    {
     "name": "stderr",
     "output_type": "stream",
     "text": [
      "100%|██████████| 2/2 [00:00<00:00, 29.94it/s]\n"
     ]
    },
    {
     "name": "stdout",
     "output_type": "stream",
     "text": [
      "Downloaded 0 images.\n",
      "Made 1 new crops.\n",
      "0 images failed to download or crop.\n",
      "12190041.JPG  Deleted\n",
      "12190267.JPG  Deleted\n",
      "\n",
      "1 image files found in the input directory\n",
      "PyTorch reports 1 available CUDA devices\n",
      "GPU available: True\n"
     ]
    },
    {
     "name": "stderr",
     "output_type": "stream",
     "text": [
      "INFO:yolov5:Fusing layers... \n",
      "Fusing layers... \n",
      "INFO:yolov5:Model summary: 574 layers, 139990096 parameters, 0 gradients\n",
      "Model summary: 574 layers, 139990096 parameters, 0 gradients\n"
     ]
    },
    {
     "name": "stdout",
     "output_type": "stream",
     "text": [
      "Sending model to GPU\n",
      "Loaded model in 0.9 seconds\n",
      "Loaded model in 0.9 seconds\n"
     ]
    },
    {
     "name": "stderr",
     "output_type": "stream",
     "text": [
      "100%|██████████| 1/1 [00:00<00:00,  5.65it/s]\n"
     ]
    },
    {
     "name": "stdout",
     "output_type": "stream",
     "text": [
      "Processing image C:\\Users\\vince\\Documents\\BIO3199\\Vincent's_Project\\Python\\test_data\\C2\\standard_seed\\date\\2022_12_20\\raw_images\\12200405.JPG\n",
      "Finished inference for 1 images in 1.08 seconds\n",
      "Output file saved at C:\\Users\\vince\\Documents\\BIO3199\\Vincent's_Project\\Python\\test_data\\C2\\standard_seed\\date\\2022_12_20\\run_batch_detector_output.json\n",
      "Done!\n",
      "Getting bbox info for 1 images...\n"
     ]
    },
    {
     "name": "stderr",
     "output_type": "stream",
     "text": [
      "100%|██████████| 1/1 [00:00<00:00, 998.17it/s]\n"
     ]
    },
    {
     "name": "stdout",
     "output_type": "stream",
     "text": [
      "Reading/downloading 1 images and cropping...\n"
     ]
    },
    {
     "name": "stderr",
     "output_type": "stream",
     "text": [
      "100%|██████████| 1/1 [00:00<00:00, 14.96it/s]\n"
     ]
    },
    {
     "name": "stdout",
     "output_type": "stream",
     "text": [
      "Downloaded 0 images.\n",
      "Made 1 new crops.\n",
      "0 images failed to download or crop.\n",
      "12200405.JPG  Deleted\n",
      "\n",
      "3 image files found in the input directory\n",
      "PyTorch reports 1 available CUDA devices\n",
      "GPU available: True\n"
     ]
    },
    {
     "name": "stderr",
     "output_type": "stream",
     "text": [
      "INFO:yolov5:Fusing layers... \n",
      "Fusing layers... \n",
      "INFO:yolov5:Model summary: 574 layers, 139990096 parameters, 0 gradients\n",
      "Model summary: 574 layers, 139990096 parameters, 0 gradients\n"
     ]
    },
    {
     "name": "stdout",
     "output_type": "stream",
     "text": [
      "Sending model to GPU\n",
      "Loaded model in 0.97 seconds\n",
      "Loaded model in 0.97 seconds\n"
     ]
    },
    {
     "name": "stderr",
     "output_type": "stream",
     "text": [
      " 33%|███▎      | 1/3 [00:00<00:00,  5.76it/s]"
     ]
    },
    {
     "name": "stdout",
     "output_type": "stream",
     "text": [
      "Processing image C:\\Users\\vince\\Documents\\BIO3199\\Vincent's_Project\\Python\\test_data\\C2\\standard_seed\\date\\2022_12_21\\raw_images\\12210090.JPG\n",
      "Processing image C:\\Users\\vince\\Documents\\BIO3199\\Vincent's_Project\\Python\\test_data\\C2\\standard_seed\\date\\2022_12_21\\raw_images\\12210614.JPG\n"
     ]
    },
    {
     "name": "stderr",
     "output_type": "stream",
     "text": [
      "100%|██████████| 3/3 [00:00<00:00,  5.67it/s]"
     ]
    },
    {
     "name": "stdout",
     "output_type": "stream",
     "text": [
      "Processing image C:\\Users\\vince\\Documents\\BIO3199\\Vincent's_Project\\Python\\test_data\\C2\\standard_seed\\date\\2022_12_21\\raw_images\\12210787.JPG\n"
     ]
    },
    {
     "name": "stderr",
     "output_type": "stream",
     "text": [
      "100%|██████████| 3/3 [00:00<00:00,  5.68it/s]\n"
     ]
    },
    {
     "name": "stdout",
     "output_type": "stream",
     "text": [
      "Finished inference for 3 images in 1.5 seconds\n",
      "Output file saved at C:\\Users\\vince\\Documents\\BIO3199\\Vincent's_Project\\Python\\test_data\\C2\\standard_seed\\date\\2022_12_21\\run_batch_detector_output.json\n",
      "Done!\n",
      "Getting bbox info for 3 images...\n"
     ]
    },
    {
     "name": "stderr",
     "output_type": "stream",
     "text": [
      "100%|██████████| 3/3 [00:00<?, ?it/s]\n"
     ]
    },
    {
     "name": "stdout",
     "output_type": "stream",
     "text": [
      "Reading/downloading 3 images and cropping...\n"
     ]
    },
    {
     "name": "stderr",
     "output_type": "stream",
     "text": [
      "100%|██████████| 3/3 [00:00<00:00, 45.58it/s]\n"
     ]
    },
    {
     "name": "stdout",
     "output_type": "stream",
     "text": [
      "Downloaded 0 images.\n",
      "Made 1 new crops.\n",
      "0 images failed to download or crop.\n",
      "12210090.JPG  Deleted\n",
      "12210614.JPG  Deleted\n",
      "12210787.JPG  Deleted\n",
      "\n",
      "1 image files found in the input directory\n",
      "PyTorch reports 1 available CUDA devices\n",
      "GPU available: True\n"
     ]
    },
    {
     "name": "stderr",
     "output_type": "stream",
     "text": [
      "INFO:yolov5:Fusing layers... \n",
      "Fusing layers... \n",
      "INFO:yolov5:Model summary: 574 layers, 139990096 parameters, 0 gradients\n",
      "Model summary: 574 layers, 139990096 parameters, 0 gradients\n"
     ]
    },
    {
     "name": "stdout",
     "output_type": "stream",
     "text": [
      "Sending model to GPU\n",
      "Loaded model in 0.9 seconds\n",
      "Loaded model in 0.9 seconds\n"
     ]
    },
    {
     "name": "stderr",
     "output_type": "stream",
     "text": [
      "100%|██████████| 1/1 [00:00<00:00,  5.63it/s]"
     ]
    },
    {
     "name": "stdout",
     "output_type": "stream",
     "text": [
      "Processing image C:\\Users\\vince\\Documents\\BIO3199\\Vincent's_Project\\Python\\test_data\\C2\\standard_seed\\date\\2022_12_26\\raw_images\\12260207.JPG\n"
     ]
    },
    {
     "name": "stderr",
     "output_type": "stream",
     "text": [
      "\n"
     ]
    },
    {
     "name": "stdout",
     "output_type": "stream",
     "text": [
      "Finished inference for 1 images in 1.08 seconds\n",
      "Output file saved at C:\\Users\\vince\\Documents\\BIO3199\\Vincent's_Project\\Python\\test_data\\C2\\standard_seed\\date\\2022_12_26\\run_batch_detector_output.json\n",
      "Done!\n",
      "Getting bbox info for 1 images...\n"
     ]
    },
    {
     "name": "stderr",
     "output_type": "stream",
     "text": [
      "100%|██████████| 1/1 [00:00<00:00, 1001.74it/s]\n"
     ]
    },
    {
     "name": "stdout",
     "output_type": "stream",
     "text": [
      "Reading/downloading 1 images and cropping...\n"
     ]
    },
    {
     "name": "stderr",
     "output_type": "stream",
     "text": [
      "100%|██████████| 1/1 [00:00<?, ?it/s]\n"
     ]
    },
    {
     "name": "stdout",
     "output_type": "stream",
     "text": [
      "Downloaded 0 images.\n",
      "Made 0 new crops.\n",
      "0 images failed to download or crop.\n",
      "12260207.JPG  Deleted\n",
      "\n",
      "2 image files found in the input directory\n",
      "PyTorch reports 1 available CUDA devices\n",
      "GPU available: True\n"
     ]
    },
    {
     "name": "stderr",
     "output_type": "stream",
     "text": [
      "INFO:yolov5:Fusing layers... \n",
      "Fusing layers... \n",
      "INFO:yolov5:Model summary: 574 layers, 139990096 parameters, 0 gradients\n",
      "Model summary: 574 layers, 139990096 parameters, 0 gradients\n"
     ]
    },
    {
     "name": "stdout",
     "output_type": "stream",
     "text": [
      "Sending model to GPU\n",
      "Loaded model in 0.9 seconds\n",
      "Loaded model in 0.9 seconds\n"
     ]
    },
    {
     "name": "stderr",
     "output_type": "stream",
     "text": [
      " 50%|█████     | 1/2 [00:00<00:00,  5.83it/s]"
     ]
    },
    {
     "name": "stdout",
     "output_type": "stream",
     "text": [
      "Processing image C:\\Users\\vince\\Documents\\BIO3199\\Vincent's_Project\\Python\\test_data\\C2\\standard_seed\\date\\2022_12_28\\raw_images\\12280328.JPG\n",
      "Processing image C:\\Users\\vince\\Documents\\BIO3199\\Vincent's_Project\\Python\\test_data\\C2\\standard_seed\\date\\2022_12_28\\raw_images\\12280361.JPG\n"
     ]
    },
    {
     "name": "stderr",
     "output_type": "stream",
     "text": [
      "100%|██████████| 2/2 [00:00<00:00,  5.78it/s]\n"
     ]
    },
    {
     "name": "stdout",
     "output_type": "stream",
     "text": [
      "Finished inference for 2 images in 1.25 seconds\n",
      "Output file saved at C:\\Users\\vince\\Documents\\BIO3199\\Vincent's_Project\\Python\\test_data\\C2\\standard_seed\\date\\2022_12_28\\run_batch_detector_output.json\n",
      "Done!\n",
      "Getting bbox info for 2 images...\n"
     ]
    },
    {
     "name": "stderr",
     "output_type": "stream",
     "text": [
      "100%|██████████| 2/2 [00:00<?, ?it/s]\n"
     ]
    },
    {
     "name": "stdout",
     "output_type": "stream",
     "text": [
      "Reading/downloading 2 images and cropping...\n"
     ]
    },
    {
     "name": "stderr",
     "output_type": "stream",
     "text": [
      "100%|██████████| 2/2 [00:00<?, ?it/s]\n"
     ]
    },
    {
     "name": "stdout",
     "output_type": "stream",
     "text": [
      "Downloaded 0 images.\n",
      "Made 0 new crops.\n",
      "0 images failed to download or crop.\n",
      "12280328.JPG  Deleted\n",
      "12280361.JPG  Deleted\n",
      "\n",
      "5 image files found in the input directory\n",
      "PyTorch reports 1 available CUDA devices\n",
      "GPU available: True\n"
     ]
    },
    {
     "name": "stderr",
     "output_type": "stream",
     "text": [
      "INFO:yolov5:Fusing layers... \n",
      "Fusing layers... \n",
      "INFO:yolov5:Model summary: 574 layers, 139990096 parameters, 0 gradients\n",
      "Model summary: 574 layers, 139990096 parameters, 0 gradients\n"
     ]
    },
    {
     "name": "stdout",
     "output_type": "stream",
     "text": [
      "Sending model to GPU\n",
      "Loaded model in 0.9 seconds\n",
      "Loaded model in 0.9 seconds\n"
     ]
    },
    {
     "name": "stderr",
     "output_type": "stream",
     "text": [
      " 20%|██        | 1/5 [00:00<00:00,  5.90it/s]"
     ]
    },
    {
     "name": "stdout",
     "output_type": "stream",
     "text": [
      "Processing image C:\\Users\\vince\\Documents\\BIO3199\\Vincent's_Project\\Python\\test_data\\C2\\standard_seed\\date\\2022_12_30\\raw_images\\12300084.JPG\n",
      "Processing image C:\\Users\\vince\\Documents\\BIO3199\\Vincent's_Project\\Python\\test_data\\C2\\standard_seed\\date\\2022_12_30\\raw_images\\12300146.JPG\n"
     ]
    },
    {
     "name": "stderr",
     "output_type": "stream",
     "text": [
      " 60%|██████    | 3/5 [00:00<00:00,  5.86it/s]"
     ]
    },
    {
     "name": "stdout",
     "output_type": "stream",
     "text": [
      "Processing image C:\\Users\\vince\\Documents\\BIO3199\\Vincent's_Project\\Python\\test_data\\C2\\standard_seed\\date\\2022_12_30\\raw_images\\12300210.JPG\n",
      "Processing image C:\\Users\\vince\\Documents\\BIO3199\\Vincent's_Project\\Python\\test_data\\C2\\standard_seed\\date\\2022_12_30\\raw_images\\12300352.JPG\n"
     ]
    },
    {
     "name": "stderr",
     "output_type": "stream",
     "text": [
      "100%|██████████| 5/5 [00:00<00:00,  5.82it/s]\n"
     ]
    },
    {
     "name": "stdout",
     "output_type": "stream",
     "text": [
      "Processing image C:\\Users\\vince\\Documents\\BIO3199\\Vincent's_Project\\Python\\test_data\\C2\\standard_seed\\date\\2022_12_30\\raw_images\\12300897.JPG\n",
      "Finished inference for 5 images in 1.76 seconds\n",
      "Output file saved at C:\\Users\\vince\\Documents\\BIO3199\\Vincent's_Project\\Python\\test_data\\C2\\standard_seed\\date\\2022_12_30\\run_batch_detector_output.json\n",
      "Done!\n",
      "Getting bbox info for 5 images...\n"
     ]
    },
    {
     "name": "stderr",
     "output_type": "stream",
     "text": [
      "100%|██████████| 5/5 [00:00<00:00, 5020.71it/s]\n"
     ]
    },
    {
     "name": "stdout",
     "output_type": "stream",
     "text": [
      "Reading/downloading 5 images and cropping...\n"
     ]
    },
    {
     "name": "stderr",
     "output_type": "stream",
     "text": [
      "100%|██████████| 5/5 [00:00<?, ?it/s]\n"
     ]
    },
    {
     "name": "stdout",
     "output_type": "stream",
     "text": [
      "Downloaded 0 images.\n",
      "Made 0 new crops.\n",
      "0 images failed to download or crop.\n",
      "12300084.JPG  Deleted\n",
      "12300146.JPG  Deleted\n",
      "12300210.JPG  Deleted\n",
      "12300352.JPG  Deleted\n",
      "12300897.JPG  Deleted\n",
      "\n",
      "\n",
      "2 image files found in the input directory\n",
      "PyTorch reports 1 available CUDA devices\n",
      "GPU available: True\n"
     ]
    },
    {
     "name": "stderr",
     "output_type": "stream",
     "text": [
      "INFO:yolov5:Fusing layers... \n",
      "Fusing layers... \n",
      "INFO:yolov5:Model summary: 574 layers, 139990096 parameters, 0 gradients\n",
      "Model summary: 574 layers, 139990096 parameters, 0 gradients\n"
     ]
    },
    {
     "name": "stdout",
     "output_type": "stream",
     "text": [
      "Sending model to GPU\n",
      "Loaded model in 0.9 seconds\n",
      "Loaded model in 0.9 seconds\n"
     ]
    },
    {
     "name": "stderr",
     "output_type": "stream",
     "text": [
      " 50%|█████     | 1/2 [00:00<00:00,  5.80it/s]"
     ]
    },
    {
     "name": "stdout",
     "output_type": "stream",
     "text": [
      "Processing image C:\\Users\\vince\\Documents\\BIO3199\\Vincent's_Project\\Python\\test_data\\C2\\sunflower_seed\\date\\2023_01_02\\raw_images\\01020172.JPG\n",
      "Processing image C:\\Users\\vince\\Documents\\BIO3199\\Vincent's_Project\\Python\\test_data\\C2\\sunflower_seed\\date\\2023_01_02\\raw_images\\01020348.JPG\n"
     ]
    },
    {
     "name": "stderr",
     "output_type": "stream",
     "text": [
      "100%|██████████| 2/2 [00:00<00:00,  5.75it/s]\n"
     ]
    },
    {
     "name": "stdout",
     "output_type": "stream",
     "text": [
      "Finished inference for 2 images in 1.25 seconds\n",
      "Output file saved at C:\\Users\\vince\\Documents\\BIO3199\\Vincent's_Project\\Python\\test_data\\C2\\sunflower_seed\\date\\2023_01_02\\run_batch_detector_output.json\n",
      "Done!\n",
      "Getting bbox info for 2 images...\n"
     ]
    },
    {
     "name": "stderr",
     "output_type": "stream",
     "text": [
      "100%|██████████| 2/2 [00:00<00:00, 2003.49it/s]\n"
     ]
    },
    {
     "name": "stdout",
     "output_type": "stream",
     "text": [
      "Reading/downloading 2 images and cropping...\n"
     ]
    },
    {
     "name": "stderr",
     "output_type": "stream",
     "text": [
      "100%|██████████| 2/2 [00:00<?, ?it/s]\n"
     ]
    },
    {
     "name": "stdout",
     "output_type": "stream",
     "text": [
      "Downloaded 0 images.\n",
      "Made 0 new crops.\n",
      "0 images failed to download or crop.\n",
      "01020172.JPG  Deleted\n",
      "01020348.JPG  Deleted\n",
      "\n",
      "3 image files found in the input directory\n",
      "PyTorch reports 1 available CUDA devices\n",
      "GPU available: True\n"
     ]
    },
    {
     "name": "stderr",
     "output_type": "stream",
     "text": [
      "INFO:yolov5:Fusing layers... \n",
      "Fusing layers... \n",
      "INFO:yolov5:Model summary: 574 layers, 139990096 parameters, 0 gradients\n",
      "Model summary: 574 layers, 139990096 parameters, 0 gradients\n"
     ]
    },
    {
     "name": "stdout",
     "output_type": "stream",
     "text": [
      "Sending model to GPU\n",
      "Loaded model in 0.9 seconds\n",
      "Loaded model in 0.9 seconds\n"
     ]
    },
    {
     "name": "stderr",
     "output_type": "stream",
     "text": [
      " 33%|███▎      | 1/3 [00:00<00:00,  5.77it/s]"
     ]
    },
    {
     "name": "stdout",
     "output_type": "stream",
     "text": [
      "Processing image C:\\Users\\vince\\Documents\\BIO3199\\Vincent's_Project\\Python\\test_data\\C2\\sunflower_seed\\date\\2023_01_04\\raw_images\\01040584.JPG\n",
      "Processing image C:\\Users\\vince\\Documents\\BIO3199\\Vincent's_Project\\Python\\test_data\\C2\\sunflower_seed\\date\\2023_01_04\\raw_images\\01040600.JPG\n"
     ]
    },
    {
     "name": "stderr",
     "output_type": "stream",
     "text": [
      "100%|██████████| 3/3 [00:00<00:00,  5.76it/s]\n"
     ]
    },
    {
     "name": "stdout",
     "output_type": "stream",
     "text": [
      "Processing image C:\\Users\\vince\\Documents\\BIO3199\\Vincent's_Project\\Python\\test_data\\C2\\sunflower_seed\\date\\2023_01_04\\raw_images\\01040802.JPG\n",
      "Finished inference for 3 images in 1.42 seconds\n",
      "Output file saved at C:\\Users\\vince\\Documents\\BIO3199\\Vincent's_Project\\Python\\test_data\\C2\\sunflower_seed\\date\\2023_01_04\\run_batch_detector_output.json\n",
      "Done!\n",
      "Getting bbox info for 3 images...\n"
     ]
    },
    {
     "name": "stderr",
     "output_type": "stream",
     "text": [
      "100%|██████████| 3/3 [00:00<00:00, 3010.99it/s]\n"
     ]
    },
    {
     "name": "stdout",
     "output_type": "stream",
     "text": [
      "Reading/downloading 3 images and cropping...\n"
     ]
    },
    {
     "name": "stderr",
     "output_type": "stream",
     "text": [
      "100%|██████████| 3/3 [00:00<?, ?it/s]\n"
     ]
    },
    {
     "name": "stdout",
     "output_type": "stream",
     "text": [
      "Downloaded 0 images.\n",
      "Made 0 new crops.\n",
      "0 images failed to download or crop.\n",
      "01040584.JPG  Deleted\n",
      "01040600.JPG  Deleted\n",
      "01040802.JPG  Deleted\n",
      "\n",
      "2 image files found in the input directory\n",
      "PyTorch reports 1 available CUDA devices\n",
      "GPU available: True\n"
     ]
    },
    {
     "name": "stderr",
     "output_type": "stream",
     "text": [
      "INFO:yolov5:Fusing layers... \n",
      "Fusing layers... \n",
      "INFO:yolov5:Model summary: 574 layers, 139990096 parameters, 0 gradients\n",
      "Model summary: 574 layers, 139990096 parameters, 0 gradients\n"
     ]
    },
    {
     "name": "stdout",
     "output_type": "stream",
     "text": [
      "Sending model to GPU\n",
      "Loaded model in 0.91 seconds\n",
      "Loaded model in 0.91 seconds\n"
     ]
    },
    {
     "name": "stderr",
     "output_type": "stream",
     "text": [
      " 50%|█████     | 1/2 [00:00<00:00,  5.77it/s]"
     ]
    },
    {
     "name": "stdout",
     "output_type": "stream",
     "text": [
      "Processing image C:\\Users\\vince\\Documents\\BIO3199\\Vincent's_Project\\Python\\test_data\\C2\\sunflower_seed\\date\\2023_01_09\\raw_images\\01090467.JPG\n",
      "Processing image C:\\Users\\vince\\Documents\\BIO3199\\Vincent's_Project\\Python\\test_data\\C2\\sunflower_seed\\date\\2023_01_09\\raw_images\\01090605.JPG\n"
     ]
    },
    {
     "name": "stderr",
     "output_type": "stream",
     "text": [
      "100%|██████████| 2/2 [00:00<00:00,  5.65it/s]\n"
     ]
    },
    {
     "name": "stdout",
     "output_type": "stream",
     "text": [
      "Finished inference for 2 images in 1.27 seconds\n",
      "Output file saved at C:\\Users\\vince\\Documents\\BIO3199\\Vincent's_Project\\Python\\test_data\\C2\\sunflower_seed\\date\\2023_01_09\\run_batch_detector_output.json\n",
      "Done!\n",
      "Getting bbox info for 2 images...\n"
     ]
    },
    {
     "name": "stderr",
     "output_type": "stream",
     "text": [
      "100%|██████████| 2/2 [00:00<00:00, 2002.05it/s]\n"
     ]
    },
    {
     "name": "stdout",
     "output_type": "stream",
     "text": [
      "Reading/downloading 2 images and cropping...\n"
     ]
    },
    {
     "name": "stderr",
     "output_type": "stream",
     "text": [
      "100%|██████████| 2/2 [00:00<?, ?it/s]\n"
     ]
    },
    {
     "name": "stdout",
     "output_type": "stream",
     "text": [
      "Downloaded 0 images.\n",
      "Made 0 new crops.\n",
      "0 images failed to download or crop.\n",
      "01090467.JPG  Deleted\n",
      "01090605.JPG  Deleted\n",
      "\n",
      "4 image files found in the input directory\n",
      "PyTorch reports 1 available CUDA devices\n",
      "GPU available: True\n"
     ]
    },
    {
     "name": "stderr",
     "output_type": "stream",
     "text": [
      "INFO:yolov5:Fusing layers... \n",
      "Fusing layers... \n",
      "INFO:yolov5:Model summary: 574 layers, 139990096 parameters, 0 gradients\n",
      "Model summary: 574 layers, 139990096 parameters, 0 gradients\n"
     ]
    },
    {
     "name": "stdout",
     "output_type": "stream",
     "text": [
      "Sending model to GPU\n",
      "Loaded model in 0.98 seconds\n",
      "Loaded model in 0.98 seconds\n"
     ]
    },
    {
     "name": "stderr",
     "output_type": "stream",
     "text": [
      " 25%|██▌       | 1/4 [00:00<00:00,  5.76it/s]"
     ]
    },
    {
     "name": "stdout",
     "output_type": "stream",
     "text": [
      "Processing image C:\\Users\\vince\\Documents\\BIO3199\\Vincent's_Project\\Python\\test_data\\C2\\sunflower_seed\\date\\2023_01_11\\raw_images\\01110105.JPG\n",
      "Processing image C:\\Users\\vince\\Documents\\BIO3199\\Vincent's_Project\\Python\\test_data\\C2\\sunflower_seed\\date\\2023_01_11\\raw_images\\01110141.JPG\n"
     ]
    },
    {
     "name": "stderr",
     "output_type": "stream",
     "text": [
      "\r",
      " 50%|█████     | 2/4 [00:00<00:00,  5.72it/s]"
     ]
    },
    {
     "name": "stdout",
     "output_type": "stream",
     "text": [
      "Processing image C:\\Users\\vince\\Documents\\BIO3199\\Vincent's_Project\\Python\\test_data\\C2\\sunflower_seed\\date\\2023_01_11\\raw_images\\01110214.JPG\n"
     ]
    },
    {
     "name": "stderr",
     "output_type": "stream",
     "text": [
      "\r",
      " 75%|███████▌  | 3/4 [00:00<00:00,  5.70it/s]"
     ]
    },
    {
     "name": "stdout",
     "output_type": "stream",
     "text": [
      "Processing image C:\\Users\\vince\\Documents\\BIO3199\\Vincent's_Project\\Python\\test_data\\C2\\sunflower_seed\\date\\2023_01_11\\raw_images\\01110848.JPG\n"
     ]
    },
    {
     "name": "stderr",
     "output_type": "stream",
     "text": [
      "100%|██████████| 4/4 [00:00<00:00,  5.74it/s]\n"
     ]
    },
    {
     "name": "stdout",
     "output_type": "stream",
     "text": [
      "Finished inference for 4 images in 1.68 seconds\n",
      "Output file saved at C:\\Users\\vince\\Documents\\BIO3199\\Vincent's_Project\\Python\\test_data\\C2\\sunflower_seed\\date\\2023_01_11\\run_batch_detector_output.json\n",
      "Done!\n",
      "Getting bbox info for 4 images...\n"
     ]
    },
    {
     "name": "stderr",
     "output_type": "stream",
     "text": [
      "100%|██████████| 4/4 [00:00<?, ?it/s]\n"
     ]
    },
    {
     "name": "stdout",
     "output_type": "stream",
     "text": [
      "Reading/downloading 4 images and cropping...\n"
     ]
    },
    {
     "name": "stderr",
     "output_type": "stream",
     "text": [
      "100%|██████████| 4/4 [00:00<?, ?it/s]\n"
     ]
    },
    {
     "name": "stdout",
     "output_type": "stream",
     "text": [
      "Downloaded 0 images.\n",
      "Made 0 new crops.\n",
      "0 images failed to download or crop.\n",
      "01110105.JPG  Deleted\n",
      "01110141.JPG  Deleted\n",
      "01110214.JPG  Deleted\n",
      "01110848.JPG  Deleted\n",
      "\n",
      "2 image files found in the input directory\n",
      "PyTorch reports 1 available CUDA devices\n",
      "GPU available: True\n"
     ]
    },
    {
     "name": "stderr",
     "output_type": "stream",
     "text": [
      "INFO:yolov5:Fusing layers... \n",
      "Fusing layers... \n",
      "INFO:yolov5:Model summary: 574 layers, 139990096 parameters, 0 gradients\n",
      "Model summary: 574 layers, 139990096 parameters, 0 gradients\n"
     ]
    },
    {
     "name": "stdout",
     "output_type": "stream",
     "text": [
      "Sending model to GPU\n",
      "Loaded model in 0.9 seconds\n",
      "Loaded model in 0.9 seconds\n"
     ]
    },
    {
     "name": "stderr",
     "output_type": "stream",
     "text": [
      " 50%|█████     | 1/2 [00:00<00:00,  5.74it/s]"
     ]
    },
    {
     "name": "stdout",
     "output_type": "stream",
     "text": [
      "Processing image C:\\Users\\vince\\Documents\\BIO3199\\Vincent's_Project\\Python\\test_data\\C2\\sunflower_seed\\date\\2023_01_12\\raw_images\\01120428.JPG\n",
      "Processing image C:\\Users\\vince\\Documents\\BIO3199\\Vincent's_Project\\Python\\test_data\\C2\\sunflower_seed\\date\\2023_01_12\\raw_images\\01120983.JPG\n"
     ]
    },
    {
     "name": "stderr",
     "output_type": "stream",
     "text": [
      "100%|██████████| 2/2 [00:00<00:00,  5.70it/s]\n"
     ]
    },
    {
     "name": "stdout",
     "output_type": "stream",
     "text": [
      "Finished inference for 2 images in 1.25 seconds\n",
      "Output file saved at C:\\Users\\vince\\Documents\\BIO3199\\Vincent's_Project\\Python\\test_data\\C2\\sunflower_seed\\date\\2023_01_12\\run_batch_detector_output.json\n",
      "Done!\n",
      "Getting bbox info for 2 images...\n"
     ]
    },
    {
     "name": "stderr",
     "output_type": "stream",
     "text": [
      "100%|██████████| 2/2 [00:00<00:00, 1996.81it/s]\n"
     ]
    },
    {
     "name": "stdout",
     "output_type": "stream",
     "text": [
      "Reading/downloading 2 images and cropping...\n"
     ]
    },
    {
     "name": "stderr",
     "output_type": "stream",
     "text": [
      "100%|██████████| 2/2 [00:00<?, ?it/s]\n"
     ]
    },
    {
     "name": "stdout",
     "output_type": "stream",
     "text": [
      "Downloaded 0 images.\n",
      "Made 0 new crops.\n",
      "0 images failed to download or crop.\n",
      "01120428.JPG  Deleted\n",
      "01120983.JPG  Deleted\n",
      "\n",
      "3 image files found in the input directory\n",
      "PyTorch reports 1 available CUDA devices\n",
      "GPU available: True\n"
     ]
    },
    {
     "name": "stderr",
     "output_type": "stream",
     "text": [
      "INFO:yolov5:Fusing layers... \n",
      "Fusing layers... \n",
      "INFO:yolov5:Model summary: 574 layers, 139990096 parameters, 0 gradients\n",
      "Model summary: 574 layers, 139990096 parameters, 0 gradients\n"
     ]
    },
    {
     "name": "stdout",
     "output_type": "stream",
     "text": [
      "Sending model to GPU\n",
      "Loaded model in 0.91 seconds\n",
      "Loaded model in 0.91 seconds\n"
     ]
    },
    {
     "name": "stderr",
     "output_type": "stream",
     "text": [
      " 33%|███▎      | 1/3 [00:00<00:00,  5.67it/s]"
     ]
    },
    {
     "name": "stdout",
     "output_type": "stream",
     "text": [
      "Processing image C:\\Users\\vince\\Documents\\BIO3199\\Vincent's_Project\\Python\\test_data\\C2\\sunflower_seed\\date\\2023_01_13\\raw_images\\01130775.JPG\n",
      "Processing image C:\\Users\\vince\\Documents\\BIO3199\\Vincent's_Project\\Python\\test_data\\C2\\sunflower_seed\\date\\2023_01_13\\raw_images\\01130806.JPG\n"
     ]
    },
    {
     "name": "stderr",
     "output_type": "stream",
     "text": [
      "100%|██████████| 3/3 [00:00<00:00,  5.72it/s]"
     ]
    },
    {
     "name": "stdout",
     "output_type": "stream",
     "text": [
      "Processing image C:\\Users\\vince\\Documents\\BIO3199\\Vincent's_Project\\Python\\test_data\\C2\\sunflower_seed\\date\\2023_01_13\\raw_images\\01130893.JPG\n"
     ]
    },
    {
     "name": "stderr",
     "output_type": "stream",
     "text": [
      "100%|██████████| 3/3 [00:00<00:00,  5.71it/s]\n"
     ]
    },
    {
     "name": "stdout",
     "output_type": "stream",
     "text": [
      "Finished inference for 3 images in 1.44 seconds\n",
      "Output file saved at C:\\Users\\vince\\Documents\\BIO3199\\Vincent's_Project\\Python\\test_data\\C2\\sunflower_seed\\date\\2023_01_13\\run_batch_detector_output.json\n",
      "Done!\n",
      "Getting bbox info for 3 images...\n"
     ]
    },
    {
     "name": "stderr",
     "output_type": "stream",
     "text": [
      "100%|██████████| 3/3 [00:00<00:00, 3010.27it/s]\n"
     ]
    },
    {
     "name": "stdout",
     "output_type": "stream",
     "text": [
      "Reading/downloading 3 images and cropping...\n"
     ]
    },
    {
     "name": "stderr",
     "output_type": "stream",
     "text": [
      "100%|██████████| 3/3 [00:00<?, ?it/s]\n"
     ]
    },
    {
     "name": "stdout",
     "output_type": "stream",
     "text": [
      "Downloaded 0 images.\n",
      "Made 0 new crops.\n",
      "0 images failed to download or crop.\n",
      "01130775.JPG  Deleted\n",
      "01130806.JPG  Deleted\n",
      "01130893.JPG  Deleted\n",
      "\n",
      "4 image files found in the input directory\n",
      "PyTorch reports 1 available CUDA devices\n",
      "GPU available: True\n"
     ]
    },
    {
     "name": "stderr",
     "output_type": "stream",
     "text": [
      "INFO:yolov5:Fusing layers... \n",
      "Fusing layers... \n",
      "INFO:yolov5:Model summary: 574 layers, 139990096 parameters, 0 gradients\n",
      "Model summary: 574 layers, 139990096 parameters, 0 gradients\n"
     ]
    },
    {
     "name": "stdout",
     "output_type": "stream",
     "text": [
      "Sending model to GPU\n",
      "Loaded model in 0.9 seconds\n",
      "Loaded model in 0.9 seconds\n"
     ]
    },
    {
     "name": "stderr",
     "output_type": "stream",
     "text": [
      " 25%|██▌       | 1/4 [00:00<00:00,  5.74it/s]"
     ]
    },
    {
     "name": "stdout",
     "output_type": "stream",
     "text": [
      "Processing image C:\\Users\\vince\\Documents\\BIO3199\\Vincent's_Project\\Python\\test_data\\C2\\sunflower_seed\\date\\2023_01_14\\raw_images\\01140058.JPG\n",
      "Processing image C:\\Users\\vince\\Documents\\BIO3199\\Vincent's_Project\\Python\\test_data\\C2\\sunflower_seed\\date\\2023_01_14\\raw_images\\01140361.JPG\n"
     ]
    },
    {
     "name": "stderr",
     "output_type": "stream",
     "text": [
      "\r",
      " 50%|█████     | 2/4 [00:00<00:00,  5.72it/s]"
     ]
    },
    {
     "name": "stdout",
     "output_type": "stream",
     "text": [
      "Processing image C:\\Users\\vince\\Documents\\BIO3199\\Vincent's_Project\\Python\\test_data\\C2\\sunflower_seed\\date\\2023_01_14\\raw_images\\01140455.JPG\n"
     ]
    },
    {
     "name": "stderr",
     "output_type": "stream",
     "text": [
      "\r",
      " 75%|███████▌  | 3/4 [00:00<00:00,  5.78it/s]"
     ]
    },
    {
     "name": "stdout",
     "output_type": "stream",
     "text": [
      "Processing image C:\\Users\\vince\\Documents\\BIO3199\\Vincent's_Project\\Python\\test_data\\C2\\sunflower_seed\\date\\2023_01_14\\raw_images\\01140616.JPG\n"
     ]
    },
    {
     "name": "stderr",
     "output_type": "stream",
     "text": [
      "100%|██████████| 4/4 [00:00<00:00,  5.79it/s]\n"
     ]
    },
    {
     "name": "stdout",
     "output_type": "stream",
     "text": [
      "Finished inference for 4 images in 1.6 seconds\n",
      "Output file saved at C:\\Users\\vince\\Documents\\BIO3199\\Vincent's_Project\\Python\\test_data\\C2\\sunflower_seed\\date\\2023_01_14\\run_batch_detector_output.json\n",
      "Done!\n",
      "Getting bbox info for 4 images...\n"
     ]
    },
    {
     "name": "stderr",
     "output_type": "stream",
     "text": [
      "100%|██████████| 4/4 [00:00<00:00, 3997.43it/s]\n"
     ]
    },
    {
     "name": "stdout",
     "output_type": "stream",
     "text": [
      "Reading/downloading 4 images and cropping...\n"
     ]
    },
    {
     "name": "stderr",
     "output_type": "stream",
     "text": [
      "100%|██████████| 4/4 [00:00<?, ?it/s]\n"
     ]
    },
    {
     "name": "stdout",
     "output_type": "stream",
     "text": [
      "Downloaded 0 images.\n",
      "Made 0 new crops.\n",
      "0 images failed to download or crop.\n",
      "01140058.JPG  Deleted\n",
      "01140361.JPG  Deleted\n",
      "01140455.JPG  Deleted\n",
      "01140616.JPG  Deleted\n",
      "\n",
      "\n",
      "\n",
      "2 image files found in the input directory\n",
      "PyTorch reports 1 available CUDA devices\n",
      "GPU available: True\n"
     ]
    },
    {
     "name": "stderr",
     "output_type": "stream",
     "text": [
      "INFO:yolov5:Fusing layers... \n",
      "Fusing layers... \n",
      "INFO:yolov5:Model summary: 574 layers, 139990096 parameters, 0 gradients\n",
      "Model summary: 574 layers, 139990096 parameters, 0 gradients\n"
     ]
    },
    {
     "name": "stdout",
     "output_type": "stream",
     "text": [
      "Sending model to GPU\n",
      "Loaded model in 0.93 seconds\n",
      "Loaded model in 0.93 seconds\n"
     ]
    },
    {
     "name": "stderr",
     "output_type": "stream",
     "text": [
      " 50%|█████     | 1/2 [00:00<00:00,  5.70it/s]"
     ]
    },
    {
     "name": "stdout",
     "output_type": "stream",
     "text": [
      "Processing image C:\\Users\\vince\\Documents\\BIO3199\\Vincent's_Project\\Python\\test_data\\C3\\fat_balls\\date\\2022_12_11\\raw_images\\12110752.JPG\n",
      "Processing image C:\\Users\\vince\\Documents\\BIO3199\\Vincent's_Project\\Python\\test_data\\C3\\fat_balls\\date\\2022_12_11\\raw_images\\12110823.JPG\n"
     ]
    },
    {
     "name": "stderr",
     "output_type": "stream",
     "text": [
      "100%|██████████| 2/2 [00:00<00:00,  5.79it/s]\n"
     ]
    },
    {
     "name": "stdout",
     "output_type": "stream",
     "text": [
      "Finished inference for 2 images in 1.28 seconds\n",
      "Output file saved at C:\\Users\\vince\\Documents\\BIO3199\\Vincent's_Project\\Python\\test_data\\C3\\fat_balls\\date\\2022_12_11\\run_batch_detector_output.json\n",
      "Done!\n",
      "Getting bbox info for 2 images...\n"
     ]
    },
    {
     "name": "stderr",
     "output_type": "stream",
     "text": [
      "100%|██████████| 2/2 [00:00<00:00, 2006.84it/s]\n"
     ]
    },
    {
     "name": "stdout",
     "output_type": "stream",
     "text": [
      "Reading/downloading 2 images and cropping...\n"
     ]
    },
    {
     "name": "stderr",
     "output_type": "stream",
     "text": [
      "100%|██████████| 2/2 [00:00<?, ?it/s]\n"
     ]
    },
    {
     "name": "stdout",
     "output_type": "stream",
     "text": [
      "Downloaded 0 images.\n",
      "Made 0 new crops.\n",
      "0 images failed to download or crop.\n",
      "12110752.JPG  Deleted\n",
      "12110823.JPG  Deleted\n",
      "\n",
      "2 image files found in the input directory\n",
      "PyTorch reports 1 available CUDA devices\n",
      "GPU available: True\n"
     ]
    },
    {
     "name": "stderr",
     "output_type": "stream",
     "text": [
      "INFO:yolov5:Fusing layers... \n",
      "Fusing layers... \n",
      "INFO:yolov5:Model summary: 574 layers, 139990096 parameters, 0 gradients\n",
      "Model summary: 574 layers, 139990096 parameters, 0 gradients\n"
     ]
    },
    {
     "name": "stdout",
     "output_type": "stream",
     "text": [
      "Sending model to GPU\n",
      "Loaded model in 0.9 seconds\n",
      "Loaded model in 0.9 seconds\n"
     ]
    },
    {
     "name": "stderr",
     "output_type": "stream",
     "text": [
      " 50%|█████     | 1/2 [00:00<00:00,  5.75it/s]"
     ]
    },
    {
     "name": "stdout",
     "output_type": "stream",
     "text": [
      "Processing image C:\\Users\\vince\\Documents\\BIO3199\\Vincent's_Project\\Python\\test_data\\C3\\fat_balls\\date\\2022_12_12\\raw_images\\12120890.JPG\n",
      "Processing image C:\\Users\\vince\\Documents\\BIO3199\\Vincent's_Project\\Python\\test_data\\C3\\fat_balls\\date\\2022_12_12\\raw_images\\12120943.JPG\n"
     ]
    },
    {
     "name": "stderr",
     "output_type": "stream",
     "text": [
      "100%|██████████| 2/2 [00:00<00:00,  5.63it/s]\n"
     ]
    },
    {
     "name": "stdout",
     "output_type": "stream",
     "text": [
      "Finished inference for 2 images in 1.26 seconds\n",
      "Output file saved at C:\\Users\\vince\\Documents\\BIO3199\\Vincent's_Project\\Python\\test_data\\C3\\fat_balls\\date\\2022_12_12\\run_batch_detector_output.json\n",
      "Done!\n",
      "Getting bbox info for 2 images...\n"
     ]
    },
    {
     "name": "stderr",
     "output_type": "stream",
     "text": [
      "100%|██████████| 2/2 [00:00<00:00, 2004.45it/s]\n"
     ]
    },
    {
     "name": "stdout",
     "output_type": "stream",
     "text": [
      "Reading/downloading 2 images and cropping...\n"
     ]
    },
    {
     "name": "stderr",
     "output_type": "stream",
     "text": [
      "100%|██████████| 2/2 [00:00<00:00, 12.30it/s]\n"
     ]
    },
    {
     "name": "stdout",
     "output_type": "stream",
     "text": [
      "Downloaded 0 images.\n",
      "Made 2 new crops.\n",
      "0 images failed to download or crop.\n",
      "12120890.JPG  Deleted\n",
      "12120943.JPG  Deleted\n",
      "\n",
      "2 image files found in the input directory\n",
      "PyTorch reports 1 available CUDA devices\n",
      "GPU available: True\n"
     ]
    },
    {
     "name": "stderr",
     "output_type": "stream",
     "text": [
      "INFO:yolov5:Fusing layers... \n",
      "Fusing layers... \n",
      "INFO:yolov5:Model summary: 574 layers, 139990096 parameters, 0 gradients\n",
      "Model summary: 574 layers, 139990096 parameters, 0 gradients\n"
     ]
    },
    {
     "name": "stdout",
     "output_type": "stream",
     "text": [
      "Sending model to GPU\n",
      "Loaded model in 0.92 seconds\n",
      "Loaded model in 0.92 seconds\n"
     ]
    },
    {
     "name": "stderr",
     "output_type": "stream",
     "text": [
      " 50%|█████     | 1/2 [00:00<00:00,  5.74it/s]"
     ]
    },
    {
     "name": "stdout",
     "output_type": "stream",
     "text": [
      "Processing image C:\\Users\\vince\\Documents\\BIO3199\\Vincent's_Project\\Python\\test_data\\C3\\fat_balls\\date\\2022_12_14\\raw_images\\12140377.JPG\n",
      "Processing image C:\\Users\\vince\\Documents\\BIO3199\\Vincent's_Project\\Python\\test_data\\C3\\fat_balls\\date\\2022_12_14\\raw_images\\12140405.JPG\n"
     ]
    },
    {
     "name": "stderr",
     "output_type": "stream",
     "text": [
      "100%|██████████| 2/2 [00:00<00:00,  5.70it/s]\n"
     ]
    },
    {
     "name": "stdout",
     "output_type": "stream",
     "text": [
      "Finished inference for 2 images in 1.27 seconds\n",
      "Output file saved at C:\\Users\\vince\\Documents\\BIO3199\\Vincent's_Project\\Python\\test_data\\C3\\fat_balls\\date\\2022_12_14\\run_batch_detector_output.json\n",
      "Done!\n",
      "Getting bbox info for 2 images...\n"
     ]
    },
    {
     "name": "stderr",
     "output_type": "stream",
     "text": [
      "100%|██████████| 2/2 [00:00<00:00, 2005.40it/s]\n"
     ]
    },
    {
     "name": "stdout",
     "output_type": "stream",
     "text": [
      "Reading/downloading 2 images and cropping...\n"
     ]
    },
    {
     "name": "stderr",
     "output_type": "stream",
     "text": [
      "100%|██████████| 2/2 [00:00<00:00, 27.84it/s]\n"
     ]
    },
    {
     "name": "stdout",
     "output_type": "stream",
     "text": [
      "Downloaded 0 images.\n",
      "Made 1 new crops.\n",
      "0 images failed to download or crop.\n",
      "12140377.JPG  Deleted\n",
      "12140405.JPG  Deleted\n",
      "\n",
      "2 image files found in the input directory\n",
      "PyTorch reports 1 available CUDA devices\n",
      "GPU available: True\n"
     ]
    },
    {
     "name": "stderr",
     "output_type": "stream",
     "text": [
      "INFO:yolov5:Fusing layers... \n",
      "Fusing layers... \n",
      "INFO:yolov5:Model summary: 574 layers, 139990096 parameters, 0 gradients\n",
      "Model summary: 574 layers, 139990096 parameters, 0 gradients\n"
     ]
    },
    {
     "name": "stdout",
     "output_type": "stream",
     "text": [
      "Sending model to GPU\n",
      "Loaded model in 0.97 seconds\n",
      "Loaded model in 0.97 seconds\n"
     ]
    },
    {
     "name": "stderr",
     "output_type": "stream",
     "text": [
      " 50%|█████     | 1/2 [00:00<00:00,  5.73it/s]"
     ]
    },
    {
     "name": "stdout",
     "output_type": "stream",
     "text": [
      "Processing image C:\\Users\\vince\\Documents\\BIO3199\\Vincent's_Project\\Python\\test_data\\C3\\fat_balls\\date\\2022_12_15\\raw_images\\12150759.JPG\n",
      "Processing image C:\\Users\\vince\\Documents\\BIO3199\\Vincent's_Project\\Python\\test_data\\C3\\fat_balls\\date\\2022_12_15\\raw_images\\12150834.JPG\n"
     ]
    },
    {
     "name": "stderr",
     "output_type": "stream",
     "text": [
      "100%|██████████| 2/2 [00:00<00:00,  5.73it/s]\n"
     ]
    },
    {
     "name": "stdout",
     "output_type": "stream",
     "text": [
      "Finished inference for 2 images in 1.32 seconds\n",
      "Output file saved at C:\\Users\\vince\\Documents\\BIO3199\\Vincent's_Project\\Python\\test_data\\C3\\fat_balls\\date\\2022_12_15\\run_batch_detector_output.json\n",
      "Done!\n",
      "Getting bbox info for 2 images...\n"
     ]
    },
    {
     "name": "stderr",
     "output_type": "stream",
     "text": [
      "100%|██████████| 2/2 [00:00<?, ?it/s]\n"
     ]
    },
    {
     "name": "stdout",
     "output_type": "stream",
     "text": [
      "Reading/downloading 2 images and cropping...\n"
     ]
    },
    {
     "name": "stderr",
     "output_type": "stream",
     "text": [
      "100%|██████████| 2/2 [00:00<?, ?it/s]\n"
     ]
    },
    {
     "name": "stdout",
     "output_type": "stream",
     "text": [
      "Downloaded 0 images.\n",
      "Made 0 new crops.\n",
      "0 images failed to download or crop.\n",
      "12150759.JPG  Deleted\n",
      "12150834.JPG  Deleted\n",
      "\n",
      "2 image files found in the input directory\n",
      "PyTorch reports 1 available CUDA devices\n",
      "GPU available: True\n"
     ]
    },
    {
     "name": "stderr",
     "output_type": "stream",
     "text": [
      "INFO:yolov5:Fusing layers... \n",
      "Fusing layers... \n",
      "INFO:yolov5:Model summary: 574 layers, 139990096 parameters, 0 gradients\n",
      "Model summary: 574 layers, 139990096 parameters, 0 gradients\n"
     ]
    },
    {
     "name": "stdout",
     "output_type": "stream",
     "text": [
      "Sending model to GPU\n",
      "Loaded model in 0.9 seconds\n",
      "Loaded model in 0.9 seconds\n"
     ]
    },
    {
     "name": "stderr",
     "output_type": "stream",
     "text": [
      " 50%|█████     | 1/2 [00:00<00:00,  5.72it/s]"
     ]
    },
    {
     "name": "stdout",
     "output_type": "stream",
     "text": [
      "Processing image C:\\Users\\vince\\Documents\\BIO3199\\Vincent's_Project\\Python\\test_data\\C3\\fat_balls\\date\\2022_12_16\\raw_images\\12160228.JPG\n",
      "Processing image C:\\Users\\vince\\Documents\\BIO3199\\Vincent's_Project\\Python\\test_data\\C3\\fat_balls\\date\\2022_12_16\\raw_images\\12160262.JPG\n"
     ]
    },
    {
     "name": "stderr",
     "output_type": "stream",
     "text": [
      "100%|██████████| 2/2 [00:00<00:00,  5.64it/s]\n"
     ]
    },
    {
     "name": "stdout",
     "output_type": "stream",
     "text": [
      "Finished inference for 2 images in 1.25 seconds\n",
      "Output file saved at C:\\Users\\vince\\Documents\\BIO3199\\Vincent's_Project\\Python\\test_data\\C3\\fat_balls\\date\\2022_12_16\\run_batch_detector_output.json\n",
      "Done!\n",
      "Getting bbox info for 2 images...\n"
     ]
    },
    {
     "name": "stderr",
     "output_type": "stream",
     "text": [
      "100%|██████████| 2/2 [00:00<00:00, 2004.93it/s]\n"
     ]
    },
    {
     "name": "stdout",
     "output_type": "stream",
     "text": [
      "Reading/downloading 2 images and cropping...\n"
     ]
    },
    {
     "name": "stderr",
     "output_type": "stream",
     "text": [
      "100%|██████████| 2/2 [00:00<00:00, 31.69it/s]\n"
     ]
    },
    {
     "name": "stdout",
     "output_type": "stream",
     "text": [
      "Downloaded 0 images.\n",
      "Made 1 new crops.\n",
      "0 images failed to download or crop.\n",
      "12160228.JPG  Deleted\n",
      "12160262.JPG  Deleted\n",
      "\n",
      "2 image files found in the input directory\n",
      "PyTorch reports 1 available CUDA devices\n",
      "GPU available: True\n"
     ]
    },
    {
     "name": "stderr",
     "output_type": "stream",
     "text": [
      "INFO:yolov5:Fusing layers... \n",
      "Fusing layers... \n",
      "INFO:yolov5:Model summary: 574 layers, 139990096 parameters, 0 gradients\n",
      "Model summary: 574 layers, 139990096 parameters, 0 gradients\n"
     ]
    },
    {
     "name": "stdout",
     "output_type": "stream",
     "text": [
      "Sending model to GPU\n",
      "Loaded model in 0.92 seconds\n",
      "Loaded model in 0.92 seconds\n"
     ]
    },
    {
     "name": "stderr",
     "output_type": "stream",
     "text": [
      " 50%|█████     | 1/2 [00:00<00:00,  5.55it/s]"
     ]
    },
    {
     "name": "stdout",
     "output_type": "stream",
     "text": [
      "Processing image C:\\Users\\vince\\Documents\\BIO3199\\Vincent's_Project\\Python\\test_data\\C3\\fat_balls\\date\\2022_12_17\\raw_images\\12170818.JPG\n",
      "Processing image C:\\Users\\vince\\Documents\\BIO3199\\Vincent's_Project\\Python\\test_data\\C3\\fat_balls\\date\\2022_12_17\\raw_images\\12170920.JPG\n"
     ]
    },
    {
     "name": "stderr",
     "output_type": "stream",
     "text": [
      "100%|██████████| 2/2 [00:00<00:00,  5.57it/s]\n"
     ]
    },
    {
     "name": "stdout",
     "output_type": "stream",
     "text": [
      "Finished inference for 2 images in 1.28 seconds\n",
      "Output file saved at C:\\Users\\vince\\Documents\\BIO3199\\Vincent's_Project\\Python\\test_data\\C3\\fat_balls\\date\\2022_12_17\\run_batch_detector_output.json\n",
      "Done!\n",
      "Getting bbox info for 2 images...\n"
     ]
    },
    {
     "name": "stderr",
     "output_type": "stream",
     "text": [
      "100%|██████████| 2/2 [00:00<00:00, 1995.86it/s]\n"
     ]
    },
    {
     "name": "stdout",
     "output_type": "stream",
     "text": [
      "Reading/downloading 2 images and cropping...\n"
     ]
    },
    {
     "name": "stderr",
     "output_type": "stream",
     "text": [
      "100%|██████████| 2/2 [00:00<?, ?it/s]\n"
     ]
    },
    {
     "name": "stdout",
     "output_type": "stream",
     "text": [
      "Downloaded 0 images.\n",
      "Made 0 new crops.\n",
      "0 images failed to download or crop.\n",
      "12170818.JPG  Deleted\n",
      "12170920.JPG  Deleted\n",
      "\n",
      "13 image files found in the input directory\n",
      "PyTorch reports 1 available CUDA devices\n",
      "GPU available: True\n"
     ]
    },
    {
     "name": "stderr",
     "output_type": "stream",
     "text": [
      "INFO:yolov5:Fusing layers... \n",
      "Fusing layers... \n",
      "INFO:yolov5:Model summary: 574 layers, 139990096 parameters, 0 gradients\n",
      "Model summary: 574 layers, 139990096 parameters, 0 gradients\n"
     ]
    },
    {
     "name": "stdout",
     "output_type": "stream",
     "text": [
      "Sending model to GPU\n",
      "Loaded model in 0.9 seconds\n",
      "Loaded model in 0.9 seconds\n"
     ]
    },
    {
     "name": "stderr",
     "output_type": "stream",
     "text": [
      "  8%|▊         | 1/13 [00:00<00:02,  5.63it/s]"
     ]
    },
    {
     "name": "stdout",
     "output_type": "stream",
     "text": [
      "Processing image C:\\Users\\vince\\Documents\\BIO3199\\Vincent's_Project\\Python\\test_data\\C3\\fat_balls\\date\\2022_12_19\\raw_images\\12190001.JPG\n",
      "Processing image C:\\Users\\vince\\Documents\\BIO3199\\Vincent's_Project\\Python\\test_data\\C3\\fat_balls\\date\\2022_12_19\\raw_images\\12190036.JPG\n"
     ]
    },
    {
     "name": "stderr",
     "output_type": "stream",
     "text": [
      " 23%|██▎       | 3/13 [00:00<00:01,  5.70it/s]"
     ]
    },
    {
     "name": "stdout",
     "output_type": "stream",
     "text": [
      "Processing image C:\\Users\\vince\\Documents\\BIO3199\\Vincent's_Project\\Python\\test_data\\C3\\fat_balls\\date\\2022_12_19\\raw_images\\12190128.JPG\n",
      "Processing image C:\\Users\\vince\\Documents\\BIO3199\\Vincent's_Project\\Python\\test_data\\C3\\fat_balls\\date\\2022_12_19\\raw_images\\12190152.JPG\n"
     ]
    },
    {
     "name": "stderr",
     "output_type": "stream",
     "text": [
      " 38%|███▊      | 5/13 [00:00<00:01,  5.78it/s]"
     ]
    },
    {
     "name": "stdout",
     "output_type": "stream",
     "text": [
      "Processing image C:\\Users\\vince\\Documents\\BIO3199\\Vincent's_Project\\Python\\test_data\\C3\\fat_balls\\date\\2022_12_19\\raw_images\\12190169.JPG\n",
      "Processing image C:\\Users\\vince\\Documents\\BIO3199\\Vincent's_Project\\Python\\test_data\\C3\\fat_balls\\date\\2022_12_19\\raw_images\\12190179.JPG\n"
     ]
    },
    {
     "name": "stderr",
     "output_type": "stream",
     "text": [
      " 54%|█████▍    | 7/13 [00:01<00:01,  5.81it/s]"
     ]
    },
    {
     "name": "stdout",
     "output_type": "stream",
     "text": [
      "Processing image C:\\Users\\vince\\Documents\\BIO3199\\Vincent's_Project\\Python\\test_data\\C3\\fat_balls\\date\\2022_12_19\\raw_images\\12190320.JPG\n",
      "Processing image C:\\Users\\vince\\Documents\\BIO3199\\Vincent's_Project\\Python\\test_data\\C3\\fat_balls\\date\\2022_12_19\\raw_images\\12190324.JPG\n"
     ]
    },
    {
     "name": "stderr",
     "output_type": "stream",
     "text": [
      " 69%|██████▉   | 9/13 [00:01<00:00,  5.79it/s]"
     ]
    },
    {
     "name": "stdout",
     "output_type": "stream",
     "text": [
      "Processing image C:\\Users\\vince\\Documents\\BIO3199\\Vincent's_Project\\Python\\test_data\\C3\\fat_balls\\date\\2022_12_19\\raw_images\\12190372.JPG\n",
      "Processing image C:\\Users\\vince\\Documents\\BIO3199\\Vincent's_Project\\Python\\test_data\\C3\\fat_balls\\date\\2022_12_19\\raw_images\\12190689.JPG\n"
     ]
    },
    {
     "name": "stderr",
     "output_type": "stream",
     "text": [
      " 85%|████████▍ | 11/13 [00:01<00:00,  5.79it/s]"
     ]
    },
    {
     "name": "stdout",
     "output_type": "stream",
     "text": [
      "Processing image C:\\Users\\vince\\Documents\\BIO3199\\Vincent's_Project\\Python\\test_data\\C3\\fat_balls\\date\\2022_12_19\\raw_images\\12190758.JPG\n",
      "Processing image C:\\Users\\vince\\Documents\\BIO3199\\Vincent's_Project\\Python\\test_data\\C3\\fat_balls\\date\\2022_12_19\\raw_images\\12190818.JPG\n"
     ]
    },
    {
     "name": "stderr",
     "output_type": "stream",
     "text": [
      "100%|██████████| 13/13 [00:02<00:00,  5.76it/s]\n"
     ]
    },
    {
     "name": "stdout",
     "output_type": "stream",
     "text": [
      "Processing image C:\\Users\\vince\\Documents\\BIO3199\\Vincent's_Project\\Python\\test_data\\C3\\fat_balls\\date\\2022_12_19\\raw_images\\12190946.JPG\n",
      "Finished inference for 13 images in 3.16 seconds\n",
      "Output file saved at C:\\Users\\vince\\Documents\\BIO3199\\Vincent's_Project\\Python\\test_data\\C3\\fat_balls\\date\\2022_12_19\\run_batch_detector_output.json\n",
      "Done!\n",
      "Getting bbox info for 13 images...\n"
     ]
    },
    {
     "name": "stderr",
     "output_type": "stream",
     "text": [
      "100%|██████████| 13/13 [00:00<00:00, 13094.61it/s]\n"
     ]
    },
    {
     "name": "stdout",
     "output_type": "stream",
     "text": [
      "Reading/downloading 13 images and cropping...\n"
     ]
    },
    {
     "name": "stderr",
     "output_type": "stream",
     "text": [
      "100%|██████████| 13/13 [00:00<?, ?it/s]\n"
     ]
    },
    {
     "name": "stdout",
     "output_type": "stream",
     "text": [
      "Downloaded 0 images.\n",
      "Made 0 new crops.\n",
      "0 images failed to download or crop.\n",
      "12190001.JPG  Deleted\n",
      "12190036.JPG  Deleted\n",
      "12190128.JPG  Deleted\n",
      "12190152.JPG  Deleted\n",
      "12190169.JPG  Deleted\n",
      "12190179.JPG  Deleted\n",
      "12190320.JPG  Deleted\n",
      "12190324.JPG  Deleted\n",
      "12190372.JPG  Deleted\n",
      "12190689.JPG  Deleted\n",
      "12190758.JPG  Deleted\n",
      "12190818.JPG  Deleted\n",
      "12190946.JPG  Deleted\n",
      "\n",
      "3 image files found in the input directory\n",
      "PyTorch reports 1 available CUDA devices\n",
      "GPU available: True\n"
     ]
    },
    {
     "name": "stderr",
     "output_type": "stream",
     "text": [
      "INFO:yolov5:Fusing layers... \n",
      "Fusing layers... \n",
      "INFO:yolov5:Model summary: 574 layers, 139990096 parameters, 0 gradients\n",
      "Model summary: 574 layers, 139990096 parameters, 0 gradients\n"
     ]
    },
    {
     "name": "stdout",
     "output_type": "stream",
     "text": [
      "Sending model to GPU\n",
      "Loaded model in 0.9 seconds\n",
      "Loaded model in 0.9 seconds\n"
     ]
    },
    {
     "name": "stderr",
     "output_type": "stream",
     "text": [
      " 33%|███▎      | 1/3 [00:00<00:00,  5.73it/s]"
     ]
    },
    {
     "name": "stdout",
     "output_type": "stream",
     "text": [
      "Processing image C:\\Users\\vince\\Documents\\BIO3199\\Vincent's_Project\\Python\\test_data\\C3\\fat_balls\\date\\2022_12_21\\raw_images\\12210661.JPG\n"
     ]
    },
    {
     "name": "stderr",
     "output_type": "stream",
     "text": [
      "\r",
      " 67%|██████▋   | 2/3 [00:00<00:00,  5.72it/s]"
     ]
    },
    {
     "name": "stdout",
     "output_type": "stream",
     "text": [
      "Processing image C:\\Users\\vince\\Documents\\BIO3199\\Vincent's_Project\\Python\\test_data\\C3\\fat_balls\\date\\2022_12_21\\raw_images\\12210723.JPG\n",
      "Processing image C:\\Users\\vince\\Documents\\BIO3199\\Vincent's_Project\\Python\\test_data\\C3\\fat_balls\\date\\2022_12_21\\raw_images\\12210758.JPG\n"
     ]
    },
    {
     "name": "stderr",
     "output_type": "stream",
     "text": [
      "100%|██████████| 3/3 [00:00<00:00,  5.72it/s]\n"
     ]
    },
    {
     "name": "stdout",
     "output_type": "stream",
     "text": [
      "Finished inference for 3 images in 1.42 seconds\n",
      "Output file saved at C:\\Users\\vince\\Documents\\BIO3199\\Vincent's_Project\\Python\\test_data\\C3\\fat_balls\\date\\2022_12_21\\run_batch_detector_output.json\n",
      "Done!\n",
      "Getting bbox info for 3 images...\n"
     ]
    },
    {
     "name": "stderr",
     "output_type": "stream",
     "text": [
      "100%|██████████| 3/3 [00:00<00:00, 3078.01it/s]\n"
     ]
    },
    {
     "name": "stdout",
     "output_type": "stream",
     "text": [
      "Reading/downloading 3 images and cropping...\n"
     ]
    },
    {
     "name": "stderr",
     "output_type": "stream",
     "text": [
      "100%|██████████| 3/3 [00:00<?, ?it/s]\n"
     ]
    },
    {
     "name": "stdout",
     "output_type": "stream",
     "text": [
      "Downloaded 0 images.\n",
      "Made 0 new crops.\n",
      "0 images failed to download or crop.\n",
      "12210661.JPG  Deleted\n",
      "12210723.JPG  Deleted\n",
      "12210758.JPG  Deleted\n",
      "\n",
      "3 image files found in the input directory\n",
      "PyTorch reports 1 available CUDA devices\n",
      "GPU available: True\n"
     ]
    },
    {
     "name": "stderr",
     "output_type": "stream",
     "text": [
      "INFO:yolov5:Fusing layers... \n",
      "Fusing layers... \n",
      "INFO:yolov5:Model summary: 574 layers, 139990096 parameters, 0 gradients\n",
      "Model summary: 574 layers, 139990096 parameters, 0 gradients\n"
     ]
    },
    {
     "name": "stdout",
     "output_type": "stream",
     "text": [
      "Sending model to GPU\n",
      "Loaded model in 0.9 seconds\n",
      "Loaded model in 0.9 seconds\n"
     ]
    },
    {
     "name": "stderr",
     "output_type": "stream",
     "text": [
      " 33%|███▎      | 1/3 [00:00<00:00,  5.68it/s]"
     ]
    },
    {
     "name": "stdout",
     "output_type": "stream",
     "text": [
      "Processing image C:\\Users\\vince\\Documents\\BIO3199\\Vincent's_Project\\Python\\test_data\\C3\\fat_balls\\date\\2022_12_22\\raw_images\\12220207.JPG\n",
      "Processing image C:\\Users\\vince\\Documents\\BIO3199\\Vincent's_Project\\Python\\test_data\\C3\\fat_balls\\date\\2022_12_22\\raw_images\\12220259.JPG\n"
     ]
    },
    {
     "name": "stderr",
     "output_type": "stream",
     "text": [
      "100%|██████████| 3/3 [00:00<00:00,  5.60it/s]\n"
     ]
    },
    {
     "name": "stdout",
     "output_type": "stream",
     "text": [
      "Processing image C:\\Users\\vince\\Documents\\BIO3199\\Vincent's_Project\\Python\\test_data\\C3\\fat_balls\\date\\2022_12_22\\raw_images\\12220354.JPG\n",
      "Finished inference for 3 images in 1.43 seconds\n",
      "Output file saved at C:\\Users\\vince\\Documents\\BIO3199\\Vincent's_Project\\Python\\test_data\\C3\\fat_balls\\date\\2022_12_22\\run_batch_detector_output.json\n",
      "Done!\n",
      "Getting bbox info for 3 images...\n"
     ]
    },
    {
     "name": "stderr",
     "output_type": "stream",
     "text": [
      "100%|██████████| 3/3 [00:00<?, ?it/s]\n"
     ]
    },
    {
     "name": "stdout",
     "output_type": "stream",
     "text": [
      "Reading/downloading 3 images and cropping...\n"
     ]
    },
    {
     "name": "stderr",
     "output_type": "stream",
     "text": [
      "100%|██████████| 3/3 [00:00<00:00, 13.27it/s]\n"
     ]
    },
    {
     "name": "stdout",
     "output_type": "stream",
     "text": [
      "Downloaded 0 images.\n",
      "Made 5 new crops.\n",
      "0 images failed to download or crop.\n",
      "12220207.JPG  Deleted\n",
      "12220259.JPG  Deleted\n",
      "12220354.JPG  Deleted\n",
      "\n",
      "1 image files found in the input directory\n",
      "PyTorch reports 1 available CUDA devices\n",
      "GPU available: True\n"
     ]
    },
    {
     "name": "stderr",
     "output_type": "stream",
     "text": [
      "INFO:yolov5:Fusing layers... \n",
      "Fusing layers... \n",
      "INFO:yolov5:Model summary: 574 layers, 139990096 parameters, 0 gradients\n",
      "Model summary: 574 layers, 139990096 parameters, 0 gradients\n"
     ]
    },
    {
     "name": "stdout",
     "output_type": "stream",
     "text": [
      "Sending model to GPU\n",
      "Loaded model in 0.9 seconds\n",
      "Loaded model in 0.9 seconds\n"
     ]
    },
    {
     "name": "stderr",
     "output_type": "stream",
     "text": [
      "100%|██████████| 1/1 [00:00<00:00,  5.90it/s]"
     ]
    },
    {
     "name": "stdout",
     "output_type": "stream",
     "text": [
      "Processing image C:\\Users\\vince\\Documents\\BIO3199\\Vincent's_Project\\Python\\test_data\\C3\\fat_balls\\date\\2022_12_24\\raw_images\\12240735.JPG\n"
     ]
    },
    {
     "name": "stderr",
     "output_type": "stream",
     "text": [
      "100%|██████████| 1/1 [00:00<00:00,  5.86it/s]\n"
     ]
    },
    {
     "name": "stdout",
     "output_type": "stream",
     "text": [
      "Finished inference for 1 images in 1.08 seconds\n",
      "Output file saved at C:\\Users\\vince\\Documents\\BIO3199\\Vincent's_Project\\Python\\test_data\\C3\\fat_balls\\date\\2022_12_24\\run_batch_detector_output.json\n",
      "Done!\n",
      "Getting bbox info for 1 images...\n"
     ]
    },
    {
     "name": "stderr",
     "output_type": "stream",
     "text": [
      "100%|██████████| 1/1 [00:00<00:00, 1003.18it/s]\n"
     ]
    },
    {
     "name": "stdout",
     "output_type": "stream",
     "text": [
      "Reading/downloading 1 images and cropping...\n"
     ]
    },
    {
     "name": "stderr",
     "output_type": "stream",
     "text": [
      "100%|██████████| 1/1 [00:00<?, ?it/s]\n"
     ]
    },
    {
     "name": "stdout",
     "output_type": "stream",
     "text": [
      "Downloaded 0 images.\n",
      "Made 0 new crops.\n",
      "0 images failed to download or crop.\n",
      "12240735.JPG  Deleted\n",
      "\n",
      "\n",
      "2 image files found in the input directory\n",
      "PyTorch reports 1 available CUDA devices\n",
      "GPU available: True\n"
     ]
    },
    {
     "name": "stderr",
     "output_type": "stream",
     "text": [
      "INFO:yolov5:Fusing layers... \n",
      "Fusing layers... \n",
      "INFO:yolov5:Model summary: 574 layers, 139990096 parameters, 0 gradients\n",
      "Model summary: 574 layers, 139990096 parameters, 0 gradients\n"
     ]
    },
    {
     "name": "stdout",
     "output_type": "stream",
     "text": [
      "Sending model to GPU\n",
      "Loaded model in 0.91 seconds\n",
      "Loaded model in 0.91 seconds\n"
     ]
    },
    {
     "name": "stderr",
     "output_type": "stream",
     "text": [
      "\r",
      "  0%|          | 0/2 [00:00<?, ?it/s]"
     ]
    },
    {
     "name": "stdout",
     "output_type": "stream",
     "text": [
      "Processing image C:\\Users\\vince\\Documents\\BIO3199\\Vincent's_Project\\Python\\test_data\\C3\\standard_seed\\date\\2023_01_02\\raw_images\\01020033.JPG\n"
     ]
    },
    {
     "name": "stderr",
     "output_type": "stream",
     "text": [
      "100%|██████████| 2/2 [00:00<00:00,  4.93it/s]\n"
     ]
    },
    {
     "name": "stdout",
     "output_type": "stream",
     "text": [
      "Processing image C:\\Users\\vince\\Documents\\BIO3199\\Vincent's_Project\\Python\\test_data\\C3\\standard_seed\\date\\2023_01_02\\raw_images\\01020151.JPG\n",
      "Finished inference for 2 images in 1.31 seconds\n",
      "Output file saved at C:\\Users\\vince\\Documents\\BIO3199\\Vincent's_Project\\Python\\test_data\\C3\\standard_seed\\date\\2023_01_02\\run_batch_detector_output.json\n",
      "Done!\n",
      "Getting bbox info for 2 images...\n"
     ]
    },
    {
     "name": "stderr",
     "output_type": "stream",
     "text": [
      "100%|██████████| 2/2 [00:00<00:00, 2061.59it/s]\n"
     ]
    },
    {
     "name": "stdout",
     "output_type": "stream",
     "text": [
      "Reading/downloading 2 images and cropping...\n"
     ]
    },
    {
     "name": "stderr",
     "output_type": "stream",
     "text": [
      "100%|██████████| 2/2 [00:00<00:00, 14.53it/s]\n"
     ]
    },
    {
     "name": "stdout",
     "output_type": "stream",
     "text": [
      "Downloaded 0 images.\n",
      "Made 2 new crops.\n",
      "0 images failed to download or crop.\n",
      "01020033.JPG  Deleted\n",
      "01020151.JPG  Deleted\n",
      "\n",
      "1 image files found in the input directory\n",
      "PyTorch reports 1 available CUDA devices\n",
      "GPU available: True\n"
     ]
    },
    {
     "name": "stderr",
     "output_type": "stream",
     "text": [
      "INFO:yolov5:Fusing layers... \n",
      "Fusing layers... \n",
      "INFO:yolov5:Model summary: 574 layers, 139990096 parameters, 0 gradients\n",
      "Model summary: 574 layers, 139990096 parameters, 0 gradients\n"
     ]
    },
    {
     "name": "stdout",
     "output_type": "stream",
     "text": [
      "Sending model to GPU\n",
      "Loaded model in 0.97 seconds\n",
      "Loaded model in 0.97 seconds\n"
     ]
    },
    {
     "name": "stderr",
     "output_type": "stream",
     "text": [
      "100%|██████████| 1/1 [00:00<00:00,  5.69it/s]\n"
     ]
    },
    {
     "name": "stdout",
     "output_type": "stream",
     "text": [
      "Processing image C:\\Users\\vince\\Documents\\BIO3199\\Vincent's_Project\\Python\\test_data\\C3\\standard_seed\\date\\2023_01_04\\raw_images\\01040869.JPG\n",
      "Finished inference for 1 images in 1.15 seconds\n",
      "Output file saved at C:\\Users\\vince\\Documents\\BIO3199\\Vincent's_Project\\Python\\test_data\\C3\\standard_seed\\date\\2023_01_04\\run_batch_detector_output.json\n",
      "Done!\n",
      "Getting bbox info for 1 images...\n"
     ]
    },
    {
     "name": "stderr",
     "output_type": "stream",
     "text": [
      "100%|██████████| 1/1 [00:00<00:00, 1002.46it/s]\n"
     ]
    },
    {
     "name": "stdout",
     "output_type": "stream",
     "text": [
      "Reading/downloading 1 images and cropping...\n"
     ]
    },
    {
     "name": "stderr",
     "output_type": "stream",
     "text": [
      "100%|██████████| 1/1 [00:00<00:00, 14.00it/s]\n"
     ]
    },
    {
     "name": "stdout",
     "output_type": "stream",
     "text": [
      "Downloaded 0 images.\n",
      "Made 1 new crops.\n",
      "0 images failed to download or crop.\n",
      "01040869.JPG  Deleted\n",
      "\n",
      "1 image files found in the input directory\n",
      "PyTorch reports 1 available CUDA devices\n",
      "GPU available: True\n"
     ]
    },
    {
     "name": "stderr",
     "output_type": "stream",
     "text": [
      "INFO:yolov5:Fusing layers... \n",
      "Fusing layers... \n",
      "INFO:yolov5:Model summary: 574 layers, 139990096 parameters, 0 gradients\n",
      "Model summary: 574 layers, 139990096 parameters, 0 gradients\n"
     ]
    },
    {
     "name": "stdout",
     "output_type": "stream",
     "text": [
      "Sending model to GPU\n",
      "Loaded model in 0.91 seconds\n",
      "Loaded model in 0.91 seconds\n"
     ]
    },
    {
     "name": "stderr",
     "output_type": "stream",
     "text": [
      "100%|██████████| 1/1 [00:00<00:00,  5.17it/s]"
     ]
    },
    {
     "name": "stdout",
     "output_type": "stream",
     "text": [
      "Processing image C:\\Users\\vince\\Documents\\BIO3199\\Vincent's_Project\\Python\\test_data\\C3\\standard_seed\\date\\2023_01_05\\raw_images\\01050135.JPG\n"
     ]
    },
    {
     "name": "stderr",
     "output_type": "stream",
     "text": [
      "100%|██████████| 1/1 [00:00<00:00,  5.14it/s]\n"
     ]
    },
    {
     "name": "stdout",
     "output_type": "stream",
     "text": [
      "Finished inference for 1 images in 1.1 seconds\n",
      "Output file saved at C:\\Users\\vince\\Documents\\BIO3199\\Vincent's_Project\\Python\\test_data\\C3\\standard_seed\\date\\2023_01_05\\run_batch_detector_output.json\n",
      "Done!\n",
      "Getting bbox info for 1 images...\n"
     ]
    },
    {
     "name": "stderr",
     "output_type": "stream",
     "text": [
      "100%|██████████| 1/1 [00:00<00:00, 1001.74it/s]\n"
     ]
    },
    {
     "name": "stdout",
     "output_type": "stream",
     "text": [
      "Reading/downloading 1 images and cropping...\n"
     ]
    },
    {
     "name": "stderr",
     "output_type": "stream",
     "text": [
      "100%|██████████| 1/1 [00:00<?, ?it/s]\n"
     ]
    },
    {
     "name": "stdout",
     "output_type": "stream",
     "text": [
      "Downloaded 0 images.\n",
      "Made 0 new crops.\n",
      "0 images failed to download or crop.\n",
      "01050135.JPG  Deleted\n",
      "\n",
      "4 image files found in the input directory\n",
      "PyTorch reports 1 available CUDA devices\n",
      "GPU available: True\n"
     ]
    },
    {
     "name": "stderr",
     "output_type": "stream",
     "text": [
      "INFO:yolov5:Fusing layers... \n",
      "Fusing layers... \n",
      "INFO:yolov5:Model summary: 574 layers, 139990096 parameters, 0 gradients\n",
      "Model summary: 574 layers, 139990096 parameters, 0 gradients\n"
     ]
    },
    {
     "name": "stdout",
     "output_type": "stream",
     "text": [
      "Sending model to GPU\n",
      "Loaded model in 0.92 seconds\n",
      "Loaded model in 0.92 seconds\n"
     ]
    },
    {
     "name": "stderr",
     "output_type": "stream",
     "text": [
      "\r",
      "  0%|          | 0/4 [00:00<?, ?it/s]"
     ]
    },
    {
     "name": "stdout",
     "output_type": "stream",
     "text": [
      "Processing image C:\\Users\\vince\\Documents\\BIO3199\\Vincent's_Project\\Python\\test_data\\C3\\standard_seed\\date\\2023_01_06\\raw_images\\01060173.JPG\n"
     ]
    },
    {
     "name": "stderr",
     "output_type": "stream",
     "text": [
      " 50%|█████     | 2/4 [00:00<00:00,  4.93it/s]"
     ]
    },
    {
     "name": "stdout",
     "output_type": "stream",
     "text": [
      "Processing image C:\\Users\\vince\\Documents\\BIO3199\\Vincent's_Project\\Python\\test_data\\C3\\standard_seed\\date\\2023_01_06\\raw_images\\01060394.JPG\n"
     ]
    },
    {
     "name": "stderr",
     "output_type": "stream",
     "text": [
      "\r",
      " 75%|███████▌  | 3/4 [00:00<00:00,  5.20it/s]"
     ]
    },
    {
     "name": "stdout",
     "output_type": "stream",
     "text": [
      "Processing image C:\\Users\\vince\\Documents\\BIO3199\\Vincent's_Project\\Python\\test_data\\C3\\standard_seed\\date\\2023_01_06\\raw_images\\01060607.JPG\n",
      "Processing image C:\\Users\\vince\\Documents\\BIO3199\\Vincent's_Project\\Python\\test_data\\C3\\standard_seed\\date\\2023_01_06\\raw_images\\01060965.JPG\n"
     ]
    },
    {
     "name": "stderr",
     "output_type": "stream",
     "text": [
      "100%|██████████| 4/4 [00:00<00:00,  5.22it/s]\n"
     ]
    },
    {
     "name": "stdout",
     "output_type": "stream",
     "text": [
      "Finished inference for 4 images in 1.69 seconds\n",
      "Output file saved at C:\\Users\\vince\\Documents\\BIO3199\\Vincent's_Project\\Python\\test_data\\C3\\standard_seed\\date\\2023_01_06\\run_batch_detector_output.json\n",
      "Done!\n",
      "Getting bbox info for 4 images...\n"
     ]
    },
    {
     "name": "stderr",
     "output_type": "stream",
     "text": [
      "100%|██████████| 4/4 [00:00<?, ?it/s]\n"
     ]
    },
    {
     "name": "stdout",
     "output_type": "stream",
     "text": [
      "Reading/downloading 4 images and cropping...\n"
     ]
    },
    {
     "name": "stderr",
     "output_type": "stream",
     "text": [
      "100%|██████████| 4/4 [00:00<00:00, 62.49it/s]\n"
     ]
    },
    {
     "name": "stdout",
     "output_type": "stream",
     "text": [
      "Downloaded 0 images.\n",
      "Made 1 new crops.\n",
      "0 images failed to download or crop.\n",
      "01060173.JPG  Deleted\n",
      "01060394.JPG  Deleted\n",
      "01060607.JPG  Deleted\n",
      "01060965.JPG  Deleted\n",
      "\n",
      "3 image files found in the input directory\n",
      "PyTorch reports 1 available CUDA devices\n",
      "GPU available: True\n"
     ]
    },
    {
     "name": "stderr",
     "output_type": "stream",
     "text": [
      "INFO:yolov5:Fusing layers... \n",
      "Fusing layers... \n",
      "INFO:yolov5:Model summary: 574 layers, 139990096 parameters, 0 gradients\n",
      "Model summary: 574 layers, 139990096 parameters, 0 gradients\n"
     ]
    },
    {
     "name": "stdout",
     "output_type": "stream",
     "text": [
      "Sending model to GPU\n",
      "Loaded model in 0.9 seconds\n",
      "Loaded model in 0.9 seconds\n"
     ]
    },
    {
     "name": "stderr",
     "output_type": "stream",
     "text": [
      " 33%|███▎      | 1/3 [00:00<00:00,  5.79it/s]"
     ]
    },
    {
     "name": "stdout",
     "output_type": "stream",
     "text": [
      "Processing image C:\\Users\\vince\\Documents\\BIO3199\\Vincent's_Project\\Python\\test_data\\C3\\standard_seed\\date\\2023_01_07\\raw_images\\01070229.JPG\n",
      "Processing image C:\\Users\\vince\\Documents\\BIO3199\\Vincent's_Project\\Python\\test_data\\C3\\standard_seed\\date\\2023_01_07\\raw_images\\01070800.JPG\n"
     ]
    },
    {
     "name": "stderr",
     "output_type": "stream",
     "text": [
      "100%|██████████| 3/3 [00:00<00:00,  5.78it/s]\n"
     ]
    },
    {
     "name": "stdout",
     "output_type": "stream",
     "text": [
      "Processing image C:\\Users\\vince\\Documents\\BIO3199\\Vincent's_Project\\Python\\test_data\\C3\\standard_seed\\date\\2023_01_07\\raw_images\\01070852.JPG\n",
      "Finished inference for 3 images in 1.42 seconds\n",
      "Output file saved at C:\\Users\\vince\\Documents\\BIO3199\\Vincent's_Project\\Python\\test_data\\C3\\standard_seed\\date\\2023_01_07\\run_batch_detector_output.json\n",
      "Done!\n",
      "Getting bbox info for 3 images...\n"
     ]
    },
    {
     "name": "stderr",
     "output_type": "stream",
     "text": [
      "100%|██████████| 3/3 [00:00<00:00, 3108.43it/s]\n"
     ]
    },
    {
     "name": "stdout",
     "output_type": "stream",
     "text": [
      "Reading/downloading 3 images and cropping...\n"
     ]
    },
    {
     "name": "stderr",
     "output_type": "stream",
     "text": [
      "100%|██████████| 3/3 [00:00<?, ?it/s]\n"
     ]
    },
    {
     "name": "stdout",
     "output_type": "stream",
     "text": [
      "Downloaded 0 images.\n",
      "Made 0 new crops.\n",
      "0 images failed to download or crop.\n",
      "01070229.JPG  Deleted\n",
      "01070800.JPG  Deleted\n",
      "01070852.JPG  Deleted\n",
      "\n",
      "4 image files found in the input directory\n",
      "PyTorch reports 1 available CUDA devices\n",
      "GPU available: True\n"
     ]
    },
    {
     "name": "stderr",
     "output_type": "stream",
     "text": [
      "INFO:yolov5:Fusing layers... \n",
      "Fusing layers... \n",
      "INFO:yolov5:Model summary: 574 layers, 139990096 parameters, 0 gradients\n",
      "Model summary: 574 layers, 139990096 parameters, 0 gradients\n"
     ]
    },
    {
     "name": "stdout",
     "output_type": "stream",
     "text": [
      "Sending model to GPU\n",
      "Loaded model in 0.9 seconds\n",
      "Loaded model in 0.9 seconds\n"
     ]
    },
    {
     "name": "stderr",
     "output_type": "stream",
     "text": [
      " 25%|██▌       | 1/4 [00:00<00:00,  5.92it/s]"
     ]
    },
    {
     "name": "stdout",
     "output_type": "stream",
     "text": [
      "Processing image C:\\Users\\vince\\Documents\\BIO3199\\Vincent's_Project\\Python\\test_data\\C3\\standard_seed\\date\\2023_01_08\\raw_images\\01080004.JPG\n",
      "Processing image C:\\Users\\vince\\Documents\\BIO3199\\Vincent's_Project\\Python\\test_data\\C3\\standard_seed\\date\\2023_01_08\\raw_images\\01080012.JPG\n"
     ]
    },
    {
     "name": "stderr",
     "output_type": "stream",
     "text": [
      " 75%|███████▌  | 3/4 [00:00<00:00,  5.84it/s]"
     ]
    },
    {
     "name": "stdout",
     "output_type": "stream",
     "text": [
      "Processing image C:\\Users\\vince\\Documents\\BIO3199\\Vincent's_Project\\Python\\test_data\\C3\\standard_seed\\date\\2023_01_08\\raw_images\\01080019.JPG\n",
      "Processing image C:\\Users\\vince\\Documents\\BIO3199\\Vincent's_Project\\Python\\test_data\\C3\\standard_seed\\date\\2023_01_08\\raw_images\\01080029.JPG\n"
     ]
    },
    {
     "name": "stderr",
     "output_type": "stream",
     "text": [
      "100%|██████████| 4/4 [00:00<00:00,  5.81it/s]\n"
     ]
    },
    {
     "name": "stdout",
     "output_type": "stream",
     "text": [
      "Finished inference for 4 images in 1.59 seconds\n",
      "Output file saved at C:\\Users\\vince\\Documents\\BIO3199\\Vincent's_Project\\Python\\test_data\\C3\\standard_seed\\date\\2023_01_08\\run_batch_detector_output.json\n",
      "Done!\n",
      "Getting bbox info for 4 images...\n"
     ]
    },
    {
     "name": "stderr",
     "output_type": "stream",
     "text": [
      "100%|██████████| 4/4 [00:00<?, ?it/s]\n"
     ]
    },
    {
     "name": "stdout",
     "output_type": "stream",
     "text": [
      "Reading/downloading 4 images and cropping...\n"
     ]
    },
    {
     "name": "stderr",
     "output_type": "stream",
     "text": [
      "100%|██████████| 4/4 [00:00<?, ?it/s]\n"
     ]
    },
    {
     "name": "stdout",
     "output_type": "stream",
     "text": [
      "Downloaded 0 images.\n",
      "Made 0 new crops.\n",
      "0 images failed to download or crop.\n",
      "01080004.JPG  Deleted\n",
      "01080012.JPG  Deleted\n",
      "01080019.JPG  Deleted\n",
      "01080029.JPG  Deleted\n",
      "\n",
      "5 image files found in the input directory\n",
      "PyTorch reports 1 available CUDA devices\n",
      "GPU available: True\n"
     ]
    },
    {
     "name": "stderr",
     "output_type": "stream",
     "text": [
      "INFO:yolov5:Fusing layers... \n",
      "Fusing layers... \n",
      "INFO:yolov5:Model summary: 574 layers, 139990096 parameters, 0 gradients\n",
      "Model summary: 574 layers, 139990096 parameters, 0 gradients\n"
     ]
    },
    {
     "name": "stdout",
     "output_type": "stream",
     "text": [
      "Sending model to GPU\n",
      "Loaded model in 0.9 seconds\n",
      "Loaded model in 0.9 seconds\n"
     ]
    },
    {
     "name": "stderr",
     "output_type": "stream",
     "text": [
      " 20%|██        | 1/5 [00:00<00:00,  5.76it/s]"
     ]
    },
    {
     "name": "stdout",
     "output_type": "stream",
     "text": [
      "Processing image C:\\Users\\vince\\Documents\\BIO3199\\Vincent's_Project\\Python\\test_data\\C3\\standard_seed\\date\\2023_01_13\\raw_images\\01130017.JPG\n",
      "Processing image C:\\Users\\vince\\Documents\\BIO3199\\Vincent's_Project\\Python\\test_data\\C3\\standard_seed\\date\\2023_01_13\\raw_images\\01130053.JPG\n"
     ]
    },
    {
     "name": "stderr",
     "output_type": "stream",
     "text": [
      "\r",
      " 40%|████      | 2/5 [00:00<00:00,  5.70it/s]"
     ]
    },
    {
     "name": "stdout",
     "output_type": "stream",
     "text": [
      "Processing image C:\\Users\\vince\\Documents\\BIO3199\\Vincent's_Project\\Python\\test_data\\C3\\standard_seed\\date\\2023_01_13\\raw_images\\01130315.JPG\n"
     ]
    },
    {
     "name": "stderr",
     "output_type": "stream",
     "text": [
      " 80%|████████  | 4/5 [00:00<00:00,  5.69it/s]"
     ]
    },
    {
     "name": "stdout",
     "output_type": "stream",
     "text": [
      "Processing image C:\\Users\\vince\\Documents\\BIO3199\\Vincent's_Project\\Python\\test_data\\C3\\standard_seed\\date\\2023_01_13\\raw_images\\01130840.JPG\n",
      "Processing image C:\\Users\\vince\\Documents\\BIO3199\\Vincent's_Project\\Python\\test_data\\C3\\standard_seed\\date\\2023_01_13\\raw_images\\01130870.JPG\n"
     ]
    },
    {
     "name": "stderr",
     "output_type": "stream",
     "text": [
      "100%|██████████| 5/5 [00:00<00:00,  5.68it/s]\n"
     ]
    },
    {
     "name": "stdout",
     "output_type": "stream",
     "text": [
      "Finished inference for 5 images in 1.78 seconds\n",
      "Output file saved at C:\\Users\\vince\\Documents\\BIO3199\\Vincent's_Project\\Python\\test_data\\C3\\standard_seed\\date\\2023_01_13\\run_batch_detector_output.json\n",
      "Done!\n",
      "Getting bbox info for 5 images...\n"
     ]
    },
    {
     "name": "stderr",
     "output_type": "stream",
     "text": [
      "100%|██████████| 5/5 [00:00<00:00, 4851.15it/s]\n"
     ]
    },
    {
     "name": "stdout",
     "output_type": "stream",
     "text": [
      "Reading/downloading 5 images and cropping...\n"
     ]
    },
    {
     "name": "stderr",
     "output_type": "stream",
     "text": [
      "100%|██████████| 5/5 [00:00<00:00, 71.58it/s]\n"
     ]
    },
    {
     "name": "stdout",
     "output_type": "stream",
     "text": [
      "Downloaded 0 images.\n",
      "Made 1 new crops.\n",
      "0 images failed to download or crop.\n",
      "01130017.JPG  Deleted\n",
      "01130053.JPG  Deleted\n",
      "01130315.JPG  Deleted\n",
      "01130840.JPG  Deleted\n",
      "01130870.JPG  Deleted\n",
      "\n",
      "\n",
      "1 image files found in the input directory\n",
      "PyTorch reports 1 available CUDA devices\n",
      "GPU available: True\n"
     ]
    },
    {
     "name": "stderr",
     "output_type": "stream",
     "text": [
      "INFO:yolov5:Fusing layers... \n",
      "Fusing layers... \n",
      "INFO:yolov5:Model summary: 574 layers, 139990096 parameters, 0 gradients\n",
      "Model summary: 574 layers, 139990096 parameters, 0 gradients\n"
     ]
    },
    {
     "name": "stdout",
     "output_type": "stream",
     "text": [
      "Sending model to GPU\n",
      "Loaded model in 0.98 seconds\n",
      "Loaded model in 0.98 seconds\n"
     ]
    },
    {
     "name": "stderr",
     "output_type": "stream",
     "text": [
      "\r",
      "  0%|          | 0/1 [00:00<?, ?it/s]"
     ]
    },
    {
     "name": "stdout",
     "output_type": "stream",
     "text": [
      "Processing image C:\\Users\\vince\\Documents\\BIO3199\\Vincent's_Project\\Python\\test_data\\C3\\sunflower_seed\\date\\2022_11_25\\raw_images\\11250028.JPG\n"
     ]
    },
    {
     "name": "stderr",
     "output_type": "stream",
     "text": [
      "100%|██████████| 1/1 [00:00<00:00,  4.64it/s]\n"
     ]
    },
    {
     "name": "stdout",
     "output_type": "stream",
     "text": [
      "Finished inference for 1 images in 1.2 seconds\n",
      "Output file saved at C:\\Users\\vince\\Documents\\BIO3199\\Vincent's_Project\\Python\\test_data\\C3\\sunflower_seed\\date\\2022_11_25\\run_batch_detector_output.json\n",
      "Done!\n",
      "Getting bbox info for 1 images...\n"
     ]
    },
    {
     "name": "stderr",
     "output_type": "stream",
     "text": [
      "100%|██████████| 1/1 [00:00<00:00, 1001.74it/s]\n"
     ]
    },
    {
     "name": "stdout",
     "output_type": "stream",
     "text": [
      "Reading/downloading 1 images and cropping...\n"
     ]
    },
    {
     "name": "stderr",
     "output_type": "stream",
     "text": [
      "100%|██████████| 1/1 [00:00<?, ?it/s]\n"
     ]
    },
    {
     "name": "stdout",
     "output_type": "stream",
     "text": [
      "Downloaded 0 images.\n",
      "Made 0 new crops.\n",
      "0 images failed to download or crop.\n",
      "11250028.JPG  Deleted\n",
      "\n",
      "6 image files found in the input directory\n",
      "PyTorch reports 1 available CUDA devices\n",
      "GPU available: True\n"
     ]
    },
    {
     "name": "stderr",
     "output_type": "stream",
     "text": [
      "INFO:yolov5:Fusing layers... \n",
      "Fusing layers... \n",
      "INFO:yolov5:Model summary: 574 layers, 139990096 parameters, 0 gradients\n",
      "Model summary: 574 layers, 139990096 parameters, 0 gradients\n"
     ]
    },
    {
     "name": "stdout",
     "output_type": "stream",
     "text": [
      "Sending model to GPU\n",
      "Loaded model in 0.89 seconds\n",
      "Loaded model in 0.89 seconds\n"
     ]
    },
    {
     "name": "stderr",
     "output_type": "stream",
     "text": [
      "\r",
      "  0%|          | 0/6 [00:00<?, ?it/s]"
     ]
    },
    {
     "name": "stdout",
     "output_type": "stream",
     "text": [
      "Processing image C:\\Users\\vince\\Documents\\BIO3199\\Vincent's_Project\\Python\\test_data\\C3\\sunflower_seed\\date\\2022_12_01\\raw_images\\12010030.JPG\n"
     ]
    },
    {
     "name": "stderr",
     "output_type": "stream",
     "text": [
      " 33%|███▎      | 2/6 [00:00<00:00,  4.72it/s]"
     ]
    },
    {
     "name": "stdout",
     "output_type": "stream",
     "text": [
      "Processing image C:\\Users\\vince\\Documents\\BIO3199\\Vincent's_Project\\Python\\test_data\\C3\\sunflower_seed\\date\\2022_12_01\\raw_images\\12010147.JPG\n"
     ]
    },
    {
     "name": "stderr",
     "output_type": "stream",
     "text": [
      "\r",
      " 50%|█████     | 3/6 [00:00<00:00,  4.87it/s]"
     ]
    },
    {
     "name": "stdout",
     "output_type": "stream",
     "text": [
      "Processing image C:\\Users\\vince\\Documents\\BIO3199\\Vincent's_Project\\Python\\test_data\\C3\\sunflower_seed\\date\\2022_12_01\\raw_images\\12010365.JPG\n",
      "Processing image C:\\Users\\vince\\Documents\\BIO3199\\Vincent's_Project\\Python\\test_data\\C3\\sunflower_seed\\date\\2022_12_01\\raw_images\\12010518.JPG\n"
     ]
    },
    {
     "name": "stderr",
     "output_type": "stream",
     "text": [
      " 83%|████████▎ | 5/6 [00:01<00:00,  4.73it/s]"
     ]
    },
    {
     "name": "stdout",
     "output_type": "stream",
     "text": [
      "Processing image C:\\Users\\vince\\Documents\\BIO3199\\Vincent's_Project\\Python\\test_data\\C3\\sunflower_seed\\date\\2022_12_01\\raw_images\\12010588.JPG\n"
     ]
    },
    {
     "name": "stderr",
     "output_type": "stream",
     "text": [
      "\r",
      "100%|██████████| 6/6 [00:01<00:00,  4.74it/s]"
     ]
    },
    {
     "name": "stdout",
     "output_type": "stream",
     "text": [
      "Processing image C:\\Users\\vince\\Documents\\BIO3199\\Vincent's_Project\\Python\\test_data\\C3\\sunflower_seed\\date\\2022_12_01\\raw_images\\12010600.JPG\n"
     ]
    },
    {
     "name": "stderr",
     "output_type": "stream",
     "text": [
      "100%|██████████| 6/6 [00:01<00:00,  4.75it/s]\n"
     ]
    },
    {
     "name": "stdout",
     "output_type": "stream",
     "text": [
      "Finished inference for 6 images in 2.16 seconds\n",
      "Output file saved at C:\\Users\\vince\\Documents\\BIO3199\\Vincent's_Project\\Python\\test_data\\C3\\sunflower_seed\\date\\2022_12_01\\run_batch_detector_output.json\n",
      "Done!\n",
      "Getting bbox info for 6 images...\n"
     ]
    },
    {
     "name": "stderr",
     "output_type": "stream",
     "text": [
      "100%|██████████| 6/6 [00:00<00:00, 6204.59it/s]\n"
     ]
    },
    {
     "name": "stdout",
     "output_type": "stream",
     "text": [
      "Reading/downloading 6 images and cropping...\n"
     ]
    },
    {
     "name": "stderr",
     "output_type": "stream",
     "text": [
      "100%|██████████| 6/6 [00:00<00:00, 27.85it/s]\n"
     ]
    },
    {
     "name": "stdout",
     "output_type": "stream",
     "text": [
      "Downloaded 0 images.\n",
      "Made 2 new crops.\n",
      "0 images failed to download or crop.\n",
      "12010030.JPG  Deleted\n",
      "12010147.JPG  Deleted\n",
      "12010365.JPG  Deleted\n",
      "12010518.JPG  Deleted\n",
      "12010588.JPG  Deleted\n",
      "12010600.JPG  Deleted\n",
      "\n",
      "7 image files found in the input directory\n",
      "PyTorch reports 1 available CUDA devices\n",
      "GPU available: True\n"
     ]
    },
    {
     "name": "stderr",
     "output_type": "stream",
     "text": [
      "INFO:yolov5:Fusing layers... \n",
      "Fusing layers... \n",
      "INFO:yolov5:Model summary: 574 layers, 139990096 parameters, 0 gradients\n",
      "Model summary: 574 layers, 139990096 parameters, 0 gradients\n"
     ]
    },
    {
     "name": "stdout",
     "output_type": "stream",
     "text": [
      "Sending model to GPU\n",
      "Loaded model in 0.9 seconds\n",
      "Loaded model in 0.9 seconds\n"
     ]
    },
    {
     "name": "stderr",
     "output_type": "stream",
     "text": [
      " 14%|█▍        | 1/7 [00:00<00:01,  4.82it/s]"
     ]
    },
    {
     "name": "stdout",
     "output_type": "stream",
     "text": [
      "Processing image C:\\Users\\vince\\Documents\\BIO3199\\Vincent's_Project\\Python\\test_data\\C3\\sunflower_seed\\date\\2022_12_02\\raw_images\\12020028.JPG\n",
      "Processing image C:\\Users\\vince\\Documents\\BIO3199\\Vincent's_Project\\Python\\test_data\\C3\\sunflower_seed\\date\\2022_12_02\\raw_images\\12020129.JPG\n"
     ]
    },
    {
     "name": "stderr",
     "output_type": "stream",
     "text": [
      " 43%|████▎     | 3/7 [00:00<00:00,  4.73it/s]"
     ]
    },
    {
     "name": "stdout",
     "output_type": "stream",
     "text": [
      "Processing image C:\\Users\\vince\\Documents\\BIO3199\\Vincent's_Project\\Python\\test_data\\C3\\sunflower_seed\\date\\2022_12_02\\raw_images\\12020165.JPG\n"
     ]
    },
    {
     "name": "stderr",
     "output_type": "stream",
     "text": [
      "\r",
      " 57%|█████▋    | 4/7 [00:00<00:00,  4.74it/s]"
     ]
    },
    {
     "name": "stdout",
     "output_type": "stream",
     "text": [
      "Processing image C:\\Users\\vince\\Documents\\BIO3199\\Vincent's_Project\\Python\\test_data\\C3\\sunflower_seed\\date\\2022_12_02\\raw_images\\12020208.JPG\n",
      "Processing image C:\\Users\\vince\\Documents\\BIO3199\\Vincent's_Project\\Python\\test_data\\C3\\sunflower_seed\\date\\2022_12_02\\raw_images\\12020410.JPG\n"
     ]
    },
    {
     "name": "stderr",
     "output_type": "stream",
     "text": [
      "\r",
      " 71%|███████▏  | 5/7 [00:01<00:00,  4.74it/s]"
     ]
    },
    {
     "name": "stdout",
     "output_type": "stream",
     "text": [
      "Processing image C:\\Users\\vince\\Documents\\BIO3199\\Vincent's_Project\\Python\\test_data\\C3\\sunflower_seed\\date\\2022_12_02\\raw_images\\12020709.JPG\n"
     ]
    },
    {
     "name": "stderr",
     "output_type": "stream",
     "text": [
      "100%|██████████| 7/7 [00:01<00:00,  4.73it/s]"
     ]
    },
    {
     "name": "stdout",
     "output_type": "stream",
     "text": [
      "Processing image C:\\Users\\vince\\Documents\\BIO3199\\Vincent's_Project\\Python\\test_data\\C3\\sunflower_seed\\date\\2022_12_02\\raw_images\\12020973.JPG\n"
     ]
    },
    {
     "name": "stderr",
     "output_type": "stream",
     "text": [
      "100%|██████████| 7/7 [00:01<00:00,  4.73it/s]\n"
     ]
    },
    {
     "name": "stdout",
     "output_type": "stream",
     "text": [
      "Finished inference for 7 images in 2.38 seconds\n",
      "Output file saved at C:\\Users\\vince\\Documents\\BIO3199\\Vincent's_Project\\Python\\test_data\\C3\\sunflower_seed\\date\\2022_12_02\\run_batch_detector_output.json\n",
      "Done!\n",
      "Getting bbox info for 7 images...\n"
     ]
    },
    {
     "name": "stderr",
     "output_type": "stream",
     "text": [
      "100%|██████████| 7/7 [00:00<00:00, 7030.68it/s]\n"
     ]
    },
    {
     "name": "stdout",
     "output_type": "stream",
     "text": [
      "Reading/downloading 7 images and cropping...\n"
     ]
    },
    {
     "name": "stderr",
     "output_type": "stream",
     "text": [
      "100%|██████████| 7/7 [00:00<00:00, 22.50it/s]\n"
     ]
    },
    {
     "name": "stdout",
     "output_type": "stream",
     "text": [
      "Downloaded 0 images.\n",
      "Made 4 new crops.\n",
      "0 images failed to download or crop.\n",
      "12020028.JPG  Deleted\n",
      "12020129.JPG  Deleted\n",
      "12020165.JPG  Deleted\n",
      "12020208.JPG  Deleted\n",
      "12020410.JPG  Deleted\n",
      "12020709.JPG  Deleted\n",
      "12020973.JPG  Deleted\n",
      "\n",
      "2 image files found in the input directory\n",
      "PyTorch reports 1 available CUDA devices\n",
      "GPU available: True\n"
     ]
    },
    {
     "name": "stderr",
     "output_type": "stream",
     "text": [
      "INFO:yolov5:Fusing layers... \n",
      "Fusing layers... \n",
      "INFO:yolov5:Model summary: 574 layers, 139990096 parameters, 0 gradients\n",
      "Model summary: 574 layers, 139990096 parameters, 0 gradients\n"
     ]
    },
    {
     "name": "stdout",
     "output_type": "stream",
     "text": [
      "Sending model to GPU\n",
      "Loaded model in 0.9 seconds\n",
      "Loaded model in 0.91 seconds\n"
     ]
    },
    {
     "name": "stderr",
     "output_type": "stream",
     "text": [
      " 50%|█████     | 1/2 [00:00<00:00,  5.67it/s]"
     ]
    },
    {
     "name": "stdout",
     "output_type": "stream",
     "text": [
      "Processing image C:\\Users\\vince\\Documents\\BIO3199\\Vincent's_Project\\Python\\test_data\\C3\\sunflower_seed\\date\\2022_12_06\\raw_images\\12060359.JPG\n",
      "Processing image C:\\Users\\vince\\Documents\\BIO3199\\Vincent's_Project\\Python\\test_data\\C3\\sunflower_seed\\date\\2022_12_06\\raw_images\\12060566.JPG\n"
     ]
    },
    {
     "name": "stderr",
     "output_type": "stream",
     "text": [
      "100%|██████████| 2/2 [00:00<00:00,  5.69it/s]\n"
     ]
    },
    {
     "name": "stdout",
     "output_type": "stream",
     "text": [
      "Finished inference for 2 images in 1.26 seconds\n",
      "Output file saved at C:\\Users\\vince\\Documents\\BIO3199\\Vincent's_Project\\Python\\test_data\\C3\\sunflower_seed\\date\\2022_12_06\\run_batch_detector_output.json\n",
      "Done!\n",
      "Getting bbox info for 2 images...\n"
     ]
    },
    {
     "name": "stderr",
     "output_type": "stream",
     "text": [
      "100%|██████████| 2/2 [00:00<?, ?it/s]\n"
     ]
    },
    {
     "name": "stdout",
     "output_type": "stream",
     "text": [
      "Reading/downloading 2 images and cropping...\n"
     ]
    },
    {
     "name": "stderr",
     "output_type": "stream",
     "text": [
      "100%|██████████| 2/2 [00:00<00:00, 14.66it/s]\n"
     ]
    },
    {
     "name": "stdout",
     "output_type": "stream",
     "text": [
      "Downloaded 0 images.\n",
      "Made 2 new crops.\n",
      "0 images failed to download or crop.\n",
      "12060359.JPG  Deleted\n",
      "12060566.JPG  Deleted\n",
      "\n",
      "\n",
      "\n",
      "1 image files found in the input directory\n",
      "PyTorch reports 1 available CUDA devices\n",
      "GPU available: True\n"
     ]
    },
    {
     "name": "stderr",
     "output_type": "stream",
     "text": [
      "INFO:yolov5:Fusing layers... \n",
      "Fusing layers... \n",
      "INFO:yolov5:Model summary: 574 layers, 139990096 parameters, 0 gradients\n",
      "Model summary: 574 layers, 139990096 parameters, 0 gradients\n"
     ]
    },
    {
     "name": "stdout",
     "output_type": "stream",
     "text": [
      "Sending model to GPU\n",
      "Loaded model in 0.9 seconds\n",
      "Loaded model in 0.9 seconds\n"
     ]
    },
    {
     "name": "stderr",
     "output_type": "stream",
     "text": [
      "\r",
      "  0%|          | 0/1 [00:00<?, ?it/s]"
     ]
    },
    {
     "name": "stdout",
     "output_type": "stream",
     "text": [
      "Processing image C:\\Users\\vince\\Documents\\BIO3199\\Vincent's_Project\\Python\\test_data\\C4\\fat_balls\\date\\2023_01_04\\raw_images\\01040010.JPG\n"
     ]
    },
    {
     "name": "stderr",
     "output_type": "stream",
     "text": [
      "100%|██████████| 1/1 [00:00<00:00,  4.53it/s]\n"
     ]
    },
    {
     "name": "stdout",
     "output_type": "stream",
     "text": [
      "Finished inference for 1 images in 1.12 seconds\n",
      "Output file saved at C:\\Users\\vince\\Documents\\BIO3199\\Vincent's_Project\\Python\\test_data\\C4\\fat_balls\\date\\2023_01_04\\run_batch_detector_output.json\n",
      "Done!\n",
      "Getting bbox info for 1 images...\n"
     ]
    },
    {
     "name": "stderr",
     "output_type": "stream",
     "text": [
      "100%|██████████| 1/1 [00:00<00:00, 1002.70it/s]\n"
     ]
    },
    {
     "name": "stdout",
     "output_type": "stream",
     "text": [
      "Reading/downloading 1 images and cropping...\n"
     ]
    },
    {
     "name": "stderr",
     "output_type": "stream",
     "text": [
      "100%|██████████| 1/1 [00:00<00:00, 10.55it/s]\n"
     ]
    },
    {
     "name": "stdout",
     "output_type": "stream",
     "text": [
      "Downloaded 0 images.\n",
      "Made 2 new crops.\n",
      "0 images failed to download or crop.\n",
      "01040010.JPG  Deleted\n",
      "\n",
      "1 image files found in the input directory\n",
      "PyTorch reports 1 available CUDA devices\n",
      "GPU available: True\n"
     ]
    },
    {
     "name": "stderr",
     "output_type": "stream",
     "text": [
      "INFO:yolov5:Fusing layers... \n",
      "Fusing layers... \n",
      "INFO:yolov5:Model summary: 574 layers, 139990096 parameters, 0 gradients\n",
      "Model summary: 574 layers, 139990096 parameters, 0 gradients\n"
     ]
    },
    {
     "name": "stdout",
     "output_type": "stream",
     "text": [
      "Sending model to GPU\n",
      "Loaded model in 0.92 seconds\n",
      "Loaded model in 0.92 seconds\n"
     ]
    },
    {
     "name": "stderr",
     "output_type": "stream",
     "text": [
      "\r",
      "  0%|          | 0/1 [00:00<?, ?it/s]"
     ]
    },
    {
     "name": "stdout",
     "output_type": "stream",
     "text": [
      "Processing image C:\\Users\\vince\\Documents\\BIO3199\\Vincent's_Project\\Python\\test_data\\C4\\fat_balls\\date\\2023_01_06\\raw_images\\01060072.JPG\n"
     ]
    },
    {
     "name": "stderr",
     "output_type": "stream",
     "text": [
      "100%|██████████| 1/1 [00:00<00:00,  3.74it/s]\n"
     ]
    },
    {
     "name": "stdout",
     "output_type": "stream",
     "text": [
      "Finished inference for 1 images in 1.19 seconds\n",
      "Output file saved at C:\\Users\\vince\\Documents\\BIO3199\\Vincent's_Project\\Python\\test_data\\C4\\fat_balls\\date\\2023_01_06\\run_batch_detector_output.json\n",
      "Done!\n",
      "Getting bbox info for 1 images...\n"
     ]
    },
    {
     "name": "stderr",
     "output_type": "stream",
     "text": [
      "100%|██████████| 1/1 [00:00<00:00, 1003.18it/s]\n"
     ]
    },
    {
     "name": "stdout",
     "output_type": "stream",
     "text": [
      "Reading/downloading 1 images and cropping...\n"
     ]
    },
    {
     "name": "stderr",
     "output_type": "stream",
     "text": [
      "100%|██████████| 1/1 [00:00<00:00, 10.77it/s]\n"
     ]
    },
    {
     "name": "stdout",
     "output_type": "stream",
     "text": [
      "Downloaded 0 images.\n",
      "Made 2 new crops.\n",
      "0 images failed to download or crop.\n",
      "01060072.JPG  Deleted\n",
      "\n",
      "2 image files found in the input directory\n",
      "PyTorch reports 1 available CUDA devices\n",
      "GPU available: True\n"
     ]
    },
    {
     "name": "stderr",
     "output_type": "stream",
     "text": [
      "INFO:yolov5:Fusing layers... \n",
      "Fusing layers... \n",
      "INFO:yolov5:Model summary: 574 layers, 139990096 parameters, 0 gradients\n",
      "Model summary: 574 layers, 139990096 parameters, 0 gradients\n"
     ]
    },
    {
     "name": "stdout",
     "output_type": "stream",
     "text": [
      "Sending model to GPU\n",
      "Loaded model in 0.9 seconds\n",
      "Loaded model in 0.9 seconds\n"
     ]
    },
    {
     "name": "stderr",
     "output_type": "stream",
     "text": [
      " 50%|█████     | 1/2 [00:00<00:00,  4.84it/s]"
     ]
    },
    {
     "name": "stdout",
     "output_type": "stream",
     "text": [
      "Processing image C:\\Users\\vince\\Documents\\BIO3199\\Vincent's_Project\\Python\\test_data\\C4\\fat_balls\\date\\2023_01_14\\raw_images\\01140114.JPG\n"
     ]
    },
    {
     "name": "stderr",
     "output_type": "stream",
     "text": [
      "\r",
      "100%|██████████| 2/2 [00:00<00:00,  4.76it/s]"
     ]
    },
    {
     "name": "stdout",
     "output_type": "stream",
     "text": [
      "Processing image C:\\Users\\vince\\Documents\\BIO3199\\Vincent's_Project\\Python\\test_data\\C4\\fat_balls\\date\\2023_01_14\\raw_images\\01140125.JPG\n"
     ]
    },
    {
     "name": "stderr",
     "output_type": "stream",
     "text": [
      "100%|██████████| 2/2 [00:00<00:00,  4.76it/s]\n"
     ]
    },
    {
     "name": "stdout",
     "output_type": "stream",
     "text": [
      "Finished inference for 2 images in 1.33 seconds\n",
      "Output file saved at C:\\Users\\vince\\Documents\\BIO3199\\Vincent's_Project\\Python\\test_data\\C4\\fat_balls\\date\\2023_01_14\\run_batch_detector_output.json\n",
      "Done!\n",
      "Getting bbox info for 2 images...\n"
     ]
    },
    {
     "name": "stderr",
     "output_type": "stream",
     "text": [
      "100%|██████████| 2/2 [00:00<00:00, 2005.40it/s]\n"
     ]
    },
    {
     "name": "stdout",
     "output_type": "stream",
     "text": [
      "Reading/downloading 2 images and cropping...\n"
     ]
    },
    {
     "name": "stderr",
     "output_type": "stream",
     "text": [
      "100%|██████████| 2/2 [00:00<00:00,  8.92it/s]\n"
     ]
    },
    {
     "name": "stdout",
     "output_type": "stream",
     "text": [
      "Downloaded 0 images.\n",
      "Made 2 new crops.\n",
      "0 images failed to download or crop.\n",
      "01140114.JPG  Deleted\n",
      "01140125.JPG  Deleted\n",
      "\n",
      "\n",
      "2 image files found in the input directory\n",
      "PyTorch reports 1 available CUDA devices\n",
      "GPU available: True\n"
     ]
    },
    {
     "name": "stderr",
     "output_type": "stream",
     "text": [
      "INFO:yolov5:Fusing layers... \n",
      "Fusing layers... \n",
      "INFO:yolov5:Model summary: 574 layers, 139990096 parameters, 0 gradients\n",
      "Model summary: 574 layers, 139990096 parameters, 0 gradients\n"
     ]
    },
    {
     "name": "stdout",
     "output_type": "stream",
     "text": [
      "Sending model to GPU\n",
      "Loaded model in 0.89 seconds\n",
      "Loaded model in 0.89 seconds\n"
     ]
    },
    {
     "name": "stderr",
     "output_type": "stream",
     "text": [
      "\r",
      "  0%|          | 0/2 [00:00<?, ?it/s]"
     ]
    },
    {
     "name": "stdout",
     "output_type": "stream",
     "text": [
      "Processing image C:\\Users\\vince\\Documents\\BIO3199\\Vincent's_Project\\Python\\test_data\\C4\\standard_seed\\date\\2022_12_06\\raw_images\\12060213.JPG\n"
     ]
    },
    {
     "name": "stderr",
     "output_type": "stream",
     "text": [
      "\r",
      " 50%|█████     | 1/2 [00:00<00:00,  4.62it/s]"
     ]
    },
    {
     "name": "stdout",
     "output_type": "stream",
     "text": [
      "Processing image C:\\Users\\vince\\Documents\\BIO3199\\Vincent's_Project\\Python\\test_data\\C4\\standard_seed\\date\\2022_12_06\\raw_images\\12060267.JPG\n"
     ]
    },
    {
     "name": "stderr",
     "output_type": "stream",
     "text": [
      "100%|██████████| 2/2 [00:00<00:00,  4.62it/s]\n"
     ]
    },
    {
     "name": "stdout",
     "output_type": "stream",
     "text": [
      "Finished inference for 2 images in 1.33 seconds\n",
      "Output file saved at C:\\Users\\vince\\Documents\\BIO3199\\Vincent's_Project\\Python\\test_data\\C4\\standard_seed\\date\\2022_12_06\\run_batch_detector_output.json\n",
      "Done!\n",
      "Getting bbox info for 2 images...\n"
     ]
    },
    {
     "name": "stderr",
     "output_type": "stream",
     "text": [
      "100%|██████████| 2/2 [00:00<00:00, 2015.52it/s]\n"
     ]
    },
    {
     "name": "stdout",
     "output_type": "stream",
     "text": [
      "Reading/downloading 2 images and cropping...\n"
     ]
    },
    {
     "name": "stderr",
     "output_type": "stream",
     "text": [
      "100%|██████████| 2/2 [00:00<00:00, 10.53it/s]\n"
     ]
    },
    {
     "name": "stdout",
     "output_type": "stream",
     "text": [
      "Downloaded 0 images.\n",
      "Made 3 new crops.\n",
      "0 images failed to download or crop.\n",
      "12060213.JPG  Deleted\n",
      "12060267.JPG  Deleted\n",
      "\n",
      "2 image files found in the input directory\n",
      "PyTorch reports 1 available CUDA devices\n",
      "GPU available: True\n"
     ]
    },
    {
     "name": "stderr",
     "output_type": "stream",
     "text": [
      "INFO:yolov5:Fusing layers... \n",
      "Fusing layers... \n",
      "INFO:yolov5:Model summary: 574 layers, 139990096 parameters, 0 gradients\n",
      "Model summary: 574 layers, 139990096 parameters, 0 gradients\n"
     ]
    },
    {
     "name": "stdout",
     "output_type": "stream",
     "text": [
      "Sending model to GPU\n",
      "Loaded model in 0.98 seconds\n",
      "Loaded model in 0.98 seconds\n"
     ]
    },
    {
     "name": "stderr",
     "output_type": "stream",
     "text": [
      " 50%|█████     | 1/2 [00:00<00:00,  4.78it/s]"
     ]
    },
    {
     "name": "stdout",
     "output_type": "stream",
     "text": [
      "Processing image C:\\Users\\vince\\Documents\\BIO3199\\Vincent's_Project\\Python\\test_data\\C4\\standard_seed\\date\\2022_12_08\\raw_images\\12080517.JPG\n",
      "Processing image C:\\Users\\vince\\Documents\\BIO3199\\Vincent's_Project\\Python\\test_data\\C4\\standard_seed\\date\\2022_12_08\\raw_images\\12080522.JPG\n"
     ]
    },
    {
     "name": "stderr",
     "output_type": "stream",
     "text": [
      "100%|██████████| 2/2 [00:00<00:00,  4.74it/s]\n"
     ]
    },
    {
     "name": "stdout",
     "output_type": "stream",
     "text": [
      "Finished inference for 2 images in 1.4 seconds\n",
      "Output file saved at C:\\Users\\vince\\Documents\\BIO3199\\Vincent's_Project\\Python\\test_data\\C4\\standard_seed\\date\\2022_12_08\\run_batch_detector_output.json\n",
      "Done!\n",
      "Getting bbox info for 2 images...\n"
     ]
    },
    {
     "name": "stderr",
     "output_type": "stream",
     "text": [
      "100%|██████████| 2/2 [00:00<00:00, 2005.88it/s]\n"
     ]
    },
    {
     "name": "stdout",
     "output_type": "stream",
     "text": [
      "Reading/downloading 2 images and cropping...\n"
     ]
    },
    {
     "name": "stderr",
     "output_type": "stream",
     "text": [
      "100%|██████████| 2/2 [00:00<00:00, 2005.88it/s]\n"
     ]
    },
    {
     "name": "stdout",
     "output_type": "stream",
     "text": [
      "Downloaded 0 images.\n",
      "Made 0 new crops.\n",
      "0 images failed to download or crop.\n",
      "12080517.JPG  Deleted\n",
      "12080522.JPG  Deleted\n",
      "\n",
      "\n",
      "3 image files found in the input directory\n",
      "PyTorch reports 1 available CUDA devices\n",
      "GPU available: True\n"
     ]
    },
    {
     "name": "stderr",
     "output_type": "stream",
     "text": [
      "INFO:yolov5:Fusing layers... \n",
      "Fusing layers... \n",
      "INFO:yolov5:Model summary: 574 layers, 139990096 parameters, 0 gradients\n",
      "Model summary: 574 layers, 139990096 parameters, 0 gradients\n"
     ]
    },
    {
     "name": "stdout",
     "output_type": "stream",
     "text": [
      "Sending model to GPU\n",
      "Loaded model in 0.9 seconds\n",
      "Loaded model in 0.9 seconds\n"
     ]
    },
    {
     "name": "stderr",
     "output_type": "stream",
     "text": [
      "\r",
      "  0%|          | 0/3 [00:00<?, ?it/s]"
     ]
    },
    {
     "name": "stdout",
     "output_type": "stream",
     "text": [
      "Processing image C:\\Users\\vince\\Documents\\BIO3199\\Vincent's_Project\\Python\\test_data\\C4\\sunflower_seed\\date\\2022_12_11\\raw_images\\12110399.JPG\n"
     ]
    },
    {
     "name": "stderr",
     "output_type": "stream",
     "text": [
      " 67%|██████▋   | 2/3 [00:00<00:00,  4.76it/s]"
     ]
    },
    {
     "name": "stdout",
     "output_type": "stream",
     "text": [
      "Processing image C:\\Users\\vince\\Documents\\BIO3199\\Vincent's_Project\\Python\\test_data\\C4\\sunflower_seed\\date\\2022_12_11\\raw_images\\12110400.JPG\n"
     ]
    },
    {
     "name": "stderr",
     "output_type": "stream",
     "text": [
      "\r",
      "100%|██████████| 3/3 [00:00<00:00,  4.84it/s]"
     ]
    },
    {
     "name": "stdout",
     "output_type": "stream",
     "text": [
      "Processing image C:\\Users\\vince\\Documents\\BIO3199\\Vincent's_Project\\Python\\test_data\\C4\\sunflower_seed\\date\\2022_12_11\\raw_images\\12110401.JPG\n"
     ]
    },
    {
     "name": "stderr",
     "output_type": "stream",
     "text": [
      "100%|██████████| 3/3 [00:00<00:00,  4.82it/s]\n"
     ]
    },
    {
     "name": "stdout",
     "output_type": "stream",
     "text": [
      "Finished inference for 3 images in 1.53 seconds\n",
      "Output file saved at C:\\Users\\vince\\Documents\\BIO3199\\Vincent's_Project\\Python\\test_data\\C4\\sunflower_seed\\date\\2022_12_11\\run_batch_detector_output.json\n",
      "Done!\n",
      "Getting bbox info for 3 images...\n"
     ]
    },
    {
     "name": "stderr",
     "output_type": "stream",
     "text": [
      "100%|██████████| 3/3 [00:00<00:00, 3012.43it/s]\n"
     ]
    },
    {
     "name": "stdout",
     "output_type": "stream",
     "text": [
      "Reading/downloading 3 images and cropping...\n"
     ]
    },
    {
     "name": "stderr",
     "output_type": "stream",
     "text": [
      "100%|██████████| 3/3 [00:00<?, ?it/s]\n"
     ]
    },
    {
     "name": "stdout",
     "output_type": "stream",
     "text": [
      "Downloaded 0 images.\n",
      "Made 0 new crops.\n",
      "0 images failed to download or crop.\n",
      "12110399.JPG  Deleted\n",
      "12110400.JPG  Deleted\n",
      "12110401.JPG  Deleted\n",
      "\n",
      "3 image files found in the input directory\n",
      "PyTorch reports 1 available CUDA devices\n",
      "GPU available: True\n"
     ]
    },
    {
     "name": "stderr",
     "output_type": "stream",
     "text": [
      "INFO:yolov5:Fusing layers... \n",
      "Fusing layers... \n",
      "INFO:yolov5:Model summary: 574 layers, 139990096 parameters, 0 gradients\n",
      "Model summary: 574 layers, 139990096 parameters, 0 gradients\n"
     ]
    },
    {
     "name": "stdout",
     "output_type": "stream",
     "text": [
      "Sending model to GPU\n",
      "Loaded model in 0.89 seconds\n",
      "Loaded model in 0.89 seconds\n"
     ]
    },
    {
     "name": "stderr",
     "output_type": "stream",
     "text": [
      "\r",
      "  0%|          | 0/3 [00:00<?, ?it/s]"
     ]
    },
    {
     "name": "stdout",
     "output_type": "stream",
     "text": [
      "Processing image C:\\Users\\vince\\Documents\\BIO3199\\Vincent's_Project\\Python\\test_data\\C4\\sunflower_seed\\date\\2022_12_20\\raw_images\\12200063.JPG\n"
     ]
    },
    {
     "name": "stderr",
     "output_type": "stream",
     "text": [
      " 67%|██████▋   | 2/3 [00:00<00:00,  4.75it/s]"
     ]
    },
    {
     "name": "stdout",
     "output_type": "stream",
     "text": [
      "Processing image C:\\Users\\vince\\Documents\\BIO3199\\Vincent's_Project\\Python\\test_data\\C4\\sunflower_seed\\date\\2022_12_20\\raw_images\\12200147.JPG\n"
     ]
    },
    {
     "name": "stderr",
     "output_type": "stream",
     "text": [
      "\r",
      "100%|██████████| 3/3 [00:00<00:00,  4.73it/s]"
     ]
    },
    {
     "name": "stdout",
     "output_type": "stream",
     "text": [
      "Processing image C:\\Users\\vince\\Documents\\BIO3199\\Vincent's_Project\\Python\\test_data\\C4\\sunflower_seed\\date\\2022_12_20\\raw_images\\12200198.JPG\n"
     ]
    },
    {
     "name": "stderr",
     "output_type": "stream",
     "text": [
      "100%|██████████| 3/3 [00:00<00:00,  4.74it/s]\n"
     ]
    },
    {
     "name": "stdout",
     "output_type": "stream",
     "text": [
      "Finished inference for 3 images in 1.53 seconds\n",
      "Output file saved at C:\\Users\\vince\\Documents\\BIO3199\\Vincent's_Project\\Python\\test_data\\C4\\sunflower_seed\\date\\2022_12_20\\run_batch_detector_output.json\n",
      "Done!\n",
      "Getting bbox info for 3 images...\n"
     ]
    },
    {
     "name": "stderr",
     "output_type": "stream",
     "text": [
      "100%|██████████| 3/3 [00:00<00:00, 2995.22it/s]\n"
     ]
    },
    {
     "name": "stdout",
     "output_type": "stream",
     "text": [
      "Reading/downloading 3 images and cropping...\n"
     ]
    },
    {
     "name": "stderr",
     "output_type": "stream",
     "text": [
      "100%|██████████| 3/3 [00:00<?, ?it/s]\n"
     ]
    },
    {
     "name": "stdout",
     "output_type": "stream",
     "text": [
      "Downloaded 0 images.\n",
      "Made 0 new crops.\n",
      "0 images failed to download or crop.\n",
      "12200063.JPG  Deleted\n",
      "12200147.JPG  Deleted\n",
      "12200198.JPG  Deleted\n",
      "\n",
      "1 image files found in the input directory\n",
      "PyTorch reports 1 available CUDA devices\n",
      "GPU available: True\n"
     ]
    },
    {
     "name": "stderr",
     "output_type": "stream",
     "text": [
      "INFO:yolov5:Fusing layers... \n",
      "Fusing layers... \n",
      "INFO:yolov5:Model summary: 574 layers, 139990096 parameters, 0 gradients\n",
      "Model summary: 574 layers, 139990096 parameters, 0 gradients\n"
     ]
    },
    {
     "name": "stdout",
     "output_type": "stream",
     "text": [
      "Sending model to GPU\n",
      "Loaded model in 0.89 seconds\n",
      "Loaded model in 0.89 seconds\n"
     ]
    },
    {
     "name": "stderr",
     "output_type": "stream",
     "text": [
      "\r",
      "  0%|          | 0/1 [00:00<?, ?it/s]"
     ]
    },
    {
     "name": "stdout",
     "output_type": "stream",
     "text": [
      "Processing image C:\\Users\\vince\\Documents\\BIO3199\\Vincent's_Project\\Python\\test_data\\C4\\sunflower_seed\\date\\2022_12_21\\raw_images\\12210326.JPG\n"
     ]
    },
    {
     "name": "stderr",
     "output_type": "stream",
     "text": [
      "100%|██████████| 1/1 [00:00<00:00,  4.69it/s]\n"
     ]
    },
    {
     "name": "stdout",
     "output_type": "stream",
     "text": [
      "Finished inference for 1 images in 1.11 seconds\n",
      "Output file saved at C:\\Users\\vince\\Documents\\BIO3199\\Vincent's_Project\\Python\\test_data\\C4\\sunflower_seed\\date\\2022_12_21\\run_batch_detector_output.json\n",
      "Done!\n",
      "Getting bbox info for 1 images...\n"
     ]
    },
    {
     "name": "stderr",
     "output_type": "stream",
     "text": [
      "100%|██████████| 1/1 [00:00<00:00, 1038.71it/s]\n"
     ]
    },
    {
     "name": "stdout",
     "output_type": "stream",
     "text": [
      "Reading/downloading 1 images and cropping...\n"
     ]
    },
    {
     "name": "stderr",
     "output_type": "stream",
     "text": [
      "100%|██████████| 1/1 [00:00<00:00, 10.66it/s]"
     ]
    },
    {
     "name": "stdout",
     "output_type": "stream",
     "text": [
      "Downloaded 0 images.\n",
      "Made 1 new crops.\n",
      "0 images failed to download or crop.\n",
      "12210326.JPG  Deleted\n",
      "\n",
      "\n",
      "\n"
     ]
    },
    {
     "name": "stderr",
     "output_type": "stream",
     "text": [
      "\n"
     ]
    }
   ],
   "source": [
    "# Loop through the directory and use megadetector to detect animals and crop bounding boxes to save into a new directory. \n",
    "import os, shutil,pathlib,exifread\n",
    "\n",
    "# Define the root file pathway \n",
    "cwd = pathlib.Path(\"test_data\")\n",
    "\n",
    "#After each loop a the new folder path is saved into a new variable to make looping more tidy\n",
    "for location in os.listdir(cwd):\n",
    "    \n",
    "    # Define new folder pathway to loop through \n",
    "    feed_type_dir = cwd/location\n",
    "    for feed_type in os.listdir(feed_type_dir):\n",
    "        \n",
    "        # Define file pathway for folders for each date\n",
    "        date_dir = feed_type_dir/feed_type/\"date\"\n",
    "        \n",
    "        # Loop through the dates folders \n",
    "        for date in os.listdir(date_dir):\n",
    "            try:\n",
    "                ## Define the arguments needed to pass into run_batch_detector and the subsequent crop_detections,\n",
    "                # the required arguments can be found in the comments inside the files.\n",
    "                raw_images_dir = str(os.path.abspath(date_dir/date/\"raw_images\"))\n",
    "                output_file_path = str(os.path.abspath(date_dir/date/\"run_batch_detector_output.json\"))\n",
    "                cropped_image_output_dir = str(os.path.abspath(date_dir/date/\"cropped_images\"))\n",
    "                \n",
    "                # Check if a directory for cropped_image_output has already been created and create one if not \n",
    "                if not os.path.exists(cropped_image_output_dir):\n",
    "                    os.makedirs(cropped_image_output_dir)\n",
    "                    \n",
    "                # Check if a directory for .json logs files has already been created and create one if not\n",
    "                log_dir = os.path.abspath(pathlib.Path(\"crop_log\"))\n",
    "                if not os.path.exists(log_dir):\n",
    "                    os.makedirs(log_dir)\n",
    "                    \n",
    "                \"\"\"Run run_batch_detector.py with the args: --megadetector file location, --images directory, --output directory for .json files\"\"\"\n",
    "                %run \"C:/git/cameratraps/detection/run_detector_batch.py\" \"C:/megadetector/md_v5a.0.0.pt\" \"$raw_images_dir\" \"$output_file_path\" --recursive --output_relative_filenames --threshold 0.8\n",
    "                \n",
    "                \"\"\"Run crop_detections.py with the args: --.json file directory, --image output directory\"\"\"\n",
    "                %run \"c:/git/cameratraps/classification/crop_detections.py\" \"$output_file_path\" \"$cropped_image_output_dir\" --images-dir \"$raw_images_dir\" --square-crops --logdir \"$log_dir\"\n",
    "                \n",
    "                # Delete the .json file storing the bounding box data to reduce file cluttering\n",
    "                os.remove(output_file_path)\n",
    "                \n",
    "                # remove raw images in the dates folder to reduce directory memory size\n",
    "                for image in os.listdir(raw_images_dir):\n",
    "                    \n",
    "                    # Define the file path for the raw image\n",
    "                    dirs = os.path.abspath(pathlib.Path(date_dir/date/\"raw_images\"/image))\n",
    "                    \n",
    "                    # Delete the file\n",
    "                    os.remove(dirs)\n",
    "                    \n",
    "                    # Print which file has been deleted\n",
    "                    print(image, \" Deleted\")\n",
    "            except:\n",
    "                pass\n",
    "            print(\"\")\n",
    "        print(\"\")\n",
    "    print(\"\")"
   ]
  },
  {
   "cell_type": "code",
   "execution_count": null,
   "id": "8304b6fa",
   "metadata": {},
   "outputs": [],
   "source": []
  }
 ],
 "metadata": {
  "kernelspec": {
   "display_name": "Python 3 (ipykernel)",
   "language": "python",
   "name": "python3"
  },
  "language_info": {
   "codemirror_mode": {
    "name": "ipython",
    "version": 3
   },
   "file_extension": ".py",
   "mimetype": "text/x-python",
   "name": "python",
   "nbconvert_exporter": "python",
   "pygments_lexer": "ipython3",
   "version": "3.8.15"
  }
 },
 "nbformat": 4,
 "nbformat_minor": 5
}
